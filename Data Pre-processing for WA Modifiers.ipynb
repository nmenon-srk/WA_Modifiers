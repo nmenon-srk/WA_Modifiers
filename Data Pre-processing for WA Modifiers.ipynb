{
 "cells": [
  {
   "cell_type": "markdown",
   "id": "bc967054-3ee9-4067-923b-246a6bc1d005",
   "metadata": {},
   "source": [
    "# Data Pre-processing for WA Modifiers"
   ]
  },
  {
   "cell_type": "code",
   "execution_count": 1,
   "id": "0137a9bc-55c3-47b3-9aa9-f1ea5453e1e7",
   "metadata": {},
   "outputs": [],
   "source": [
    "# Import \n",
    "import os\n",
    "import pandas as pd\n",
    "import fiona \n",
    "import geopandas as gpd"
   ]
  },
  {
   "cell_type": "markdown",
   "metadata": {},
   "source": [
    "## Data import\n",
    "Create a geopandas data frame dictionary with the keys as the layer name and value as the dataframe. This is done after setting the data path to the geodatabase folder. "
   ]
  },
  {
   "cell_type": "code",
   "execution_count": 2,
   "id": "d21375ed-5256-41c4-aafd-09953105afbd",
   "metadata": {},
   "outputs": [],
   "source": [
    "# Set Controls\n",
    "gdf_dict = {}\n",
    "gdf_error = []\n",
    "\n",
    "# Change path\n",
    "geo_path = \"E:\\\\ABLE\\\\Modifiers\\\\Data\\\\Geodatabases\\\\\"\n",
    "os.chdir(geo_path) "
   ]
  },
  {
   "cell_type": "code",
   "execution_count": 3,
   "id": "830d2668-678e-4439-acbb-f08e5371e12d",
   "metadata": {},
   "outputs": [
    {
     "name": "stdout",
     "output_type": "stream",
     "text": [
      "0\n",
      "1\n",
      "2\n",
      "3\n",
      "4\n"
     ]
    },
    {
     "name": "stderr",
     "output_type": "stream",
     "text": [
      "c:\\Users\\nmenon\\AppData\\Local\\miniconda3\\envs\\srk\\Lib\\site-packages\\geopandas\\io\\file.py:399: UserWarning: Could not infer format, so each element will be parsed individually, falling back to `dateutil`. To ensure parsing is consistent and as-expected, please specify a format.\n",
      "  as_dt = pd.to_datetime(df[k], errors=\"ignore\")\n",
      "c:\\Users\\nmenon\\AppData\\Local\\miniconda3\\envs\\srk\\Lib\\site-packages\\geopandas\\io\\file.py:403: UserWarning: Could not infer format, so each element will be parsed individually, falling back to `dateutil`. To ensure parsing is consistent and as-expected, please specify a format.\n",
      "  as_dt = pd.to_datetime(df[k], errors=\"ignore\", utc=True)\n"
     ]
    },
    {
     "name": "stdout",
     "output_type": "stream",
     "text": [
      "5\n",
      "6\n",
      "7\n",
      "8\n",
      "9\n",
      "10\n",
      "11\n",
      "12\n",
      "13\n",
      "14\n",
      "15\n",
      "16\n",
      "17\n",
      "18\n",
      "19\n",
      "20\n",
      "21\n",
      "22\n",
      "23\n",
      "24\n",
      "25\n",
      "26\n",
      "27\n",
      "28\n",
      "29\n",
      "30\n",
      "31\n",
      "32\n",
      "33\n",
      "34\n",
      "35\n",
      "36\n",
      "37\n",
      "38\n",
      "39\n",
      "40\n",
      "41\n",
      "42\n",
      "43\n",
      "44\n",
      "45\n",
      "46\n",
      "47\n",
      "48\n",
      "49\n",
      "50\n",
      "51\n",
      "52\n",
      "53\n",
      "54\n",
      "55\n",
      "56\n",
      "57\n",
      "58\n",
      "59\n",
      "60\n",
      "61\n",
      "62\n",
      "63\n",
      "64\n",
      "65\n",
      "66\n",
      "67\n",
      "68\n",
      "69\n",
      "70\n",
      "71\n",
      "72\n",
      "73\n",
      "74\n"
     ]
    }
   ],
   "source": [
    "# get layers from .gdb file \n",
    "layers = fiona.listlayers(\"Project_ABLE_ESG_Feature_Service_Data.gdb\")\n",
    "\n",
    "# Create Dictionary (Takes 18 to 20 mins)\n",
    "for i in range(len(layers)):\n",
    "    print(i)\n",
    "    gdf = gpd.read_file(\"Project_ABLE_ESG_Feature_Service_Data.gdb\",layer=i)\n",
    "    gdf_dict[layers[i]] = gdf"
   ]
  },
  {
   "cell_type": "code",
   "execution_count": 4,
   "metadata": {},
   "outputs": [
    {
     "data": {
      "text/plain": [
       "['L49WRIMS___Groundwater_Resources__DWER_084_',\n",
       " 'L7Hydrography_Linear__Hierarchy___DWER_031_',\n",
       " 'L0WA_Main_Roads___State_Roads',\n",
       " 'L17CAPAD_NatureReserve',\n",
       " 'L3SECTION19',\n",
       " 'L1Overview_Towns__LGATE_054_',\n",
       " 'L10WA_GA_Railway_Stations',\n",
       " 'L46WRIMS___Surface_Water_Resources__DWER_081_',\n",
       " 'L9CAPAD_51gReserve',\n",
       " 'L13Northern_Mineral_Railways',\n",
       " 'L7Electricity_Transmission_Lines',\n",
       " 'L11Southern_Public_Railways',\n",
       " 'L5Contaminated_Sites_Database__DWER_059_',\n",
       " 'L0WA_Sensitive_Infrastructure',\n",
       " 'L8National_Major_Ports',\n",
       " 'L15DBCA___Legislated_Lands_and_Waters__DBCA_011_',\n",
       " 'L9Gas_Pipelines',\n",
       " 'L2WA_SWIS_Electrical_Pillars_WP_041',\n",
       " 'L28RIWI_Act__Groundwater_Areas__DWER_034_',\n",
       " 'L10WA_SWIS_Substations_and_Power_Terminals',\n",
       " 'L1Distribution_Overhead_Powerlines_WP_031',\n",
       " 'L8Major_Power_Stations',\n",
       " 'L6GA_Electricity_Transmission_Lines',\n",
       " 'L5RNTBC_Nat',\n",
       " 'L1Pastoral_Stations_DPLH_083',\n",
       " 'L0UNESCO_Biosphere_Reserves',\n",
       " 'L3Aboriginal_Heritage_Places__DPLH_001_',\n",
       " 'L11CAPAD_BotanicGardens',\n",
       " 'L12FADA_Nat',\n",
       " 'L0SEC57_4',\n",
       " 'L2Aboriginal_Communities_and_Town_Reserves__DPLH_002_',\n",
       " 'L3Native_Title_Nat',\n",
       " 'L16Bush_Fire_Prone_Areas_2021__OBRM_019_',\n",
       " 'L4s31_Agreements_Nat',\n",
       " 'L6RATSIB_Nat',\n",
       " 'L16CAPAD_NationalPark',\n",
       " 'L7NTDA_Schedule_Nat',\n",
       " 'L30RIWI_Act__Surface_Water_Areas_and_Irrigation_Districts__DWER_037_',\n",
       " 'L8NTDA_Register_Nat',\n",
       " 'L9NTD_Register_Nat',\n",
       " 'L10NTDA_Transaction_Nat',\n",
       " 'L11ILUA_Nat_Reg_Notified',\n",
       " 'L13FA_Objections_Nat',\n",
       " 'L14FA_Notices_Nat',\n",
       " 'L0WA_DMIRS_Mineralisation_Zone',\n",
       " 'L2Fish_Habitat_Protection_Areas__DPIRD_049_',\n",
       " 'L10CAPAD_51hReserve',\n",
       " 'L12CAPAD_ConservationCovenant',\n",
       " 'L13CAPAD_ConservationPark',\n",
       " 'L14CAPAD_ConservationReserve',\n",
       " 'L15CAPAD_ManagementArea',\n",
       " 'L18CAPAD_NRS_Addition_GazettalinProgress',\n",
       " 'L19CAPAD_Other',\n",
       " 'L2IUCN_World_Database_of_Protected_Areas___Dec22',\n",
       " 'L20CAPAD_PrivateNatureReserve',\n",
       " 'L21CAPAD_StateReserve',\n",
       " 'L23Threatened_Ecological_Communities__DBCA_038_',\n",
       " 'L21Threatened_and_Priority_Flora__DBCA_036_',\n",
       " 'L65Threatened_and_Priority_Fauna__DBCA_037_',\n",
       " 'L4ALT_Estate__DPLH_003_',\n",
       " 'L1WDPA_poly_latest',\n",
       " 'L2Listed_migratory_species',\n",
       " 'L3Listed_threatened_species',\n",
       " 'L7Ecological_communities',\n",
       " 'L0World_Heritage_Sites',\n",
       " 'L9Ramsar_Sites__DBCA_010_',\n",
       " 'L17Road_Network',\n",
       " 'L75State_Planning_Policy_5_4_Road_and_Rail_Noise__Line___DPLH_058_',\n",
       " 'L31Water_Reservoir__WCORP_078_',\n",
       " 'L29Water_Dam__WCORP_075_',\n",
       " 'L20Water_Pipe__WCORP_002_',\n",
       " 'L9ABS_Urban_Centres_and_Localities_2021',\n",
       " 'L3WA_Watercorp_073___Water_bores',\n",
       " 'L14WA_Major_Aviation_Terminals_Points',\n",
       " 'L6WA_Main_Airports_Polygons']"
      ]
     },
     "execution_count": 4,
     "metadata": {},
     "output_type": "execute_result"
    }
   ],
   "source": [
    "layers"
   ]
  },
  {
   "cell_type": "code",
   "execution_count": 6,
   "metadata": {},
   "outputs": [
    {
     "data": {
      "text/plain": [
       "<Axes: >"
      ]
     },
     "execution_count": 6,
     "metadata": {},
     "output_type": "execute_result"
    },
    {
     "data": {
      "image/png": "[encoded data removed]",
      "text/plain": [
       "<Figure size 640x480 with 1 Axes>"
      ]
     },
     "metadata": {},
     "output_type": "display_data"
    }
   ],
   "source": [
    "tt.plot()"
   ]
  },
  {
   "cell_type": "markdown",
   "metadata": {},
   "source": [
    "## Processing and saving the outputs as shapefile\n",
    "There are 2 main pre-processing steps in this section:\n",
    "1. Convert the CRS of every gdf to that of the grid projection (Currently all layers in the database is different)\n",
    "2. Save the file as a shape file after clearing all the errors in the saved data index and column names (Some of the current feature column names are incompatible with ESRI Shapefile drivers)\n",
    "\n",
    "The CRS of the grid file is Projection: GDA2020 MGA Zone 50. \n",
    "(This projection it represents the specific UTM zone for the area of Westen Australia)."
   ]
  },
  {
   "cell_type": "code",
   "execution_count": 6,
   "id": "1be9e570-8374-41f1-ae4d-e3b6c392d81e",
   "metadata": {},
   "outputs": [],
   "source": [
    "# Change path\n",
    "grid_path = \"E:\\\\ABLE\\\\Modifiers\\\\Grid_WA\\\\Base Grid\\\\\"\n",
    "os.chdir(grid_path) "
   ]
  },
  {
   "cell_type": "code",
   "execution_count": 7,
   "id": "33962021-8e49-4ad3-bf5b-768065d87fc4",
   "metadata": {},
   "outputs": [],
   "source": [
    "# Import grid_5km and get CRS \n",
    "grid_5km = gpd.read_file(\"WA_Grid_5km_point.shp\")\n",
    "CRS = grid_5km.crs"
   ]
  },
  {
   "cell_type": "markdown",
   "metadata": {},
   "source": [
    "The below cell runs and saves the layers using a method called exception handing. It tries to save the layer as an ESRI shapefile and if the line throws a driver error due to saving (which is most expected in this case) it creates an exception for that particular layer and then saves the name of that layer into the `gdf_error` list. This helps processing easier as all files needn't be looked at individually, saving alot of time. "
   ]
  },
  {
   "cell_type": "code",
   "execution_count": 9,
   "metadata": {},
   "outputs": [
    {
     "name": "stderr",
     "output_type": "stream",
     "text": [
      "C:\\Users\\nmenon\\AppData\\Local\\Temp\\ipykernel_11120\\4047933228.py:7: UserWarning: Column names longer than 10 characters will be truncated when saved to ESRI Shapefile.\n",
      "  gdf.to_file(f\"{save_path}/{layers[i]}.shp\", driver='ESRI Shapefile')\n",
      "C:\\Users\\nmenon\\AppData\\Local\\Temp\\ipykernel_11120\\4047933228.py:7: UserWarning: Column names longer than 10 characters will be truncated when saved to ESRI Shapefile.\n",
      "  gdf.to_file(f\"{save_path}/{layers[i]}.shp\", driver='ESRI Shapefile')\n",
      "C:\\Users\\nmenon\\AppData\\Local\\Temp\\ipykernel_11120\\4047933228.py:7: UserWarning: Column names longer than 10 characters will be truncated when saved to ESRI Shapefile.\n",
      "  gdf.to_file(f\"{save_path}/{layers[i]}.shp\", driver='ESRI Shapefile')\n",
      "C:\\Users\\nmenon\\AppData\\Local\\Temp\\ipykernel_11120\\4047933228.py:7: UserWarning: Column names longer than 10 characters will be truncated when saved to ESRI Shapefile.\n",
      "  gdf.to_file(f\"{save_path}/{layers[i]}.shp\", driver='ESRI Shapefile')\n",
      "C:\\Users\\nmenon\\AppData\\Local\\Temp\\ipykernel_11120\\4047933228.py:7: UserWarning: Column names longer than 10 characters will be truncated when saved to ESRI Shapefile.\n",
      "  gdf.to_file(f\"{save_path}/{layers[i]}.shp\", driver='ESRI Shapefile')\n",
      "C:\\Users\\nmenon\\AppData\\Local\\Temp\\ipykernel_11120\\4047933228.py:7: UserWarning: Column names longer than 10 characters will be truncated when saved to ESRI Shapefile.\n",
      "  gdf.to_file(f\"{save_path}/{layers[i]}.shp\", driver='ESRI Shapefile')\n"
     ]
    },
    {
     "name": "stdout",
     "output_type": "stream",
     "text": [
      "ESRI Shapefile does not support datetime fields\n",
      "ESRI Shapefile does not support datetime fields\n",
      "ESRI Shapefile does not support datetime fields\n"
     ]
    },
    {
     "name": "stderr",
     "output_type": "stream",
     "text": [
      "C:\\Users\\nmenon\\AppData\\Local\\Temp\\ipykernel_11120\\4047933228.py:7: UserWarning: Column names longer than 10 characters will be truncated when saved to ESRI Shapefile.\n",
      "  gdf.to_file(f\"{save_path}/{layers[i]}.shp\", driver='ESRI Shapefile')\n",
      "C:\\Users\\nmenon\\AppData\\Local\\Temp\\ipykernel_11120\\4047933228.py:7: UserWarning: Column names longer than 10 characters will be truncated when saved to ESRI Shapefile.\n",
      "  gdf.to_file(f\"{save_path}/{layers[i]}.shp\", driver='ESRI Shapefile')\n",
      "C:\\Users\\nmenon\\AppData\\Local\\Temp\\ipykernel_11120\\4047933228.py:7: UserWarning: Column names longer than 10 characters will be truncated when saved to ESRI Shapefile.\n",
      "  gdf.to_file(f\"{save_path}/{layers[i]}.shp\", driver='ESRI Shapefile')\n",
      "C:\\Users\\nmenon\\AppData\\Local\\Temp\\ipykernel_11120\\4047933228.py:7: UserWarning: Column names longer than 10 characters will be truncated when saved to ESRI Shapefile.\n",
      "  gdf.to_file(f\"{save_path}/{layers[i]}.shp\", driver='ESRI Shapefile')\n",
      "C:\\Users\\nmenon\\AppData\\Local\\Temp\\ipykernel_11120\\4047933228.py:7: UserWarning: Column names longer than 10 characters will be truncated when saved to ESRI Shapefile.\n",
      "  gdf.to_file(f\"{save_path}/{layers[i]}.shp\", driver='ESRI Shapefile')\n",
      "C:\\Users\\nmenon\\AppData\\Local\\Temp\\ipykernel_11120\\4047933228.py:7: UserWarning: Column names longer than 10 characters will be truncated when saved to ESRI Shapefile.\n",
      "  gdf.to_file(f\"{save_path}/{layers[i]}.shp\", driver='ESRI Shapefile')\n",
      "C:\\Users\\nmenon\\AppData\\Local\\Temp\\ipykernel_11120\\4047933228.py:7: UserWarning: Column names longer than 10 characters will be truncated when saved to ESRI Shapefile.\n",
      "  gdf.to_file(f\"{save_path}/{layers[i]}.shp\", driver='ESRI Shapefile')\n",
      "C:\\Users\\nmenon\\AppData\\Local\\Temp\\ipykernel_11120\\4047933228.py:7: UserWarning: Column names longer than 10 characters will be truncated when saved to ESRI Shapefile.\n",
      "  gdf.to_file(f\"{save_path}/{layers[i]}.shp\", driver='ESRI Shapefile')\n"
     ]
    },
    {
     "name": "stdout",
     "output_type": "stream",
     "text": [
      "ESRI Shapefile does not support datetime fields\n",
      "ESRI Shapefile does not support datetime fields\n",
      "ESRI Shapefile does not support datetime fields\n",
      "ESRI Shapefile does not support datetime fields\n",
      "ESRI Shapefile does not support datetime fields\n"
     ]
    },
    {
     "name": "stderr",
     "output_type": "stream",
     "text": [
      "C:\\Users\\nmenon\\AppData\\Local\\Temp\\ipykernel_11120\\4047933228.py:7: UserWarning: Column names longer than 10 characters will be truncated when saved to ESRI Shapefile.\n",
      "  gdf.to_file(f\"{save_path}/{layers[i]}.shp\", driver='ESRI Shapefile')\n",
      "C:\\Users\\nmenon\\AppData\\Local\\Temp\\ipykernel_11120\\4047933228.py:7: UserWarning: Column names longer than 10 characters will be truncated when saved to ESRI Shapefile.\n",
      "  gdf.to_file(f\"{save_path}/{layers[i]}.shp\", driver='ESRI Shapefile')\n"
     ]
    },
    {
     "name": "stdout",
     "output_type": "stream",
     "text": [
      "ESRI Shapefile does not support datetime fields\n"
     ]
    },
    {
     "name": "stderr",
     "output_type": "stream",
     "text": [
      "C:\\Users\\nmenon\\AppData\\Local\\Temp\\ipykernel_11120\\4047933228.py:7: UserWarning: Column names longer than 10 characters will be truncated when saved to ESRI Shapefile.\n",
      "  gdf.to_file(f\"{save_path}/{layers[i]}.shp\", driver='ESRI Shapefile')\n"
     ]
    },
    {
     "name": "stdout",
     "output_type": "stream",
     "text": [
      "ESRI Shapefile does not support datetime fields\n"
     ]
    },
    {
     "name": "stderr",
     "output_type": "stream",
     "text": [
      "C:\\Users\\nmenon\\AppData\\Local\\Temp\\ipykernel_11120\\4047933228.py:7: UserWarning: Column names longer than 10 characters will be truncated when saved to ESRI Shapefile.\n",
      "  gdf.to_file(f\"{save_path}/{layers[i]}.shp\", driver='ESRI Shapefile')\n",
      "C:\\Users\\nmenon\\AppData\\Local\\Temp\\ipykernel_11120\\4047933228.py:7: UserWarning: Column names longer than 10 characters will be truncated when saved to ESRI Shapefile.\n",
      "  gdf.to_file(f\"{save_path}/{layers[i]}.shp\", driver='ESRI Shapefile')\n",
      "C:\\Users\\nmenon\\AppData\\Local\\Temp\\ipykernel_11120\\4047933228.py:7: UserWarning: Column names longer than 10 characters will be truncated when saved to ESRI Shapefile.\n",
      "  gdf.to_file(f\"{save_path}/{layers[i]}.shp\", driver='ESRI Shapefile')\n"
     ]
    },
    {
     "name": "stdout",
     "output_type": "stream",
     "text": [
      "ESRI Shapefile does not support datetime fields\n"
     ]
    },
    {
     "name": "stderr",
     "output_type": "stream",
     "text": [
      "C:\\Users\\nmenon\\AppData\\Local\\Temp\\ipykernel_11120\\4047933228.py:7: UserWarning: Column names longer than 10 characters will be truncated when saved to ESRI Shapefile.\n",
      "  gdf.to_file(f\"{save_path}/{layers[i]}.shp\", driver='ESRI Shapefile')\n"
     ]
    },
    {
     "name": "stdout",
     "output_type": "stream",
     "text": [
      "ESRI Shapefile does not support datetime fields\n"
     ]
    },
    {
     "name": "stderr",
     "output_type": "stream",
     "text": [
      "C:\\Users\\nmenon\\AppData\\Local\\Temp\\ipykernel_11120\\4047933228.py:7: UserWarning: Column names longer than 10 characters will be truncated when saved to ESRI Shapefile.\n",
      "  gdf.to_file(f\"{save_path}/{layers[i]}.shp\", driver='ESRI Shapefile')\n",
      "C:\\Users\\nmenon\\AppData\\Local\\Temp\\ipykernel_11120\\4047933228.py:7: UserWarning: Column names longer than 10 characters will be truncated when saved to ESRI Shapefile.\n",
      "  gdf.to_file(f\"{save_path}/{layers[i]}.shp\", driver='ESRI Shapefile')\n",
      "C:\\Users\\nmenon\\AppData\\Local\\Temp\\ipykernel_11120\\4047933228.py:7: UserWarning: Column names longer than 10 characters will be truncated when saved to ESRI Shapefile.\n",
      "  gdf.to_file(f\"{save_path}/{layers[i]}.shp\", driver='ESRI Shapefile')\n",
      "C:\\Users\\nmenon\\AppData\\Local\\Temp\\ipykernel_11120\\4047933228.py:7: UserWarning: Column names longer than 10 characters will be truncated when saved to ESRI Shapefile.\n",
      "  gdf.to_file(f\"{save_path}/{layers[i]}.shp\", driver='ESRI Shapefile')\n",
      "C:\\Users\\nmenon\\AppData\\Local\\Temp\\ipykernel_11120\\4047933228.py:7: UserWarning: Column names longer than 10 characters will be truncated when saved to ESRI Shapefile.\n",
      "  gdf.to_file(f\"{save_path}/{layers[i]}.shp\", driver='ESRI Shapefile')\n",
      "C:\\Users\\nmenon\\AppData\\Local\\Temp\\ipykernel_11120\\4047933228.py:7: UserWarning: Column names longer than 10 characters will be truncated when saved to ESRI Shapefile.\n",
      "  gdf.to_file(f\"{save_path}/{layers[i]}.shp\", driver='ESRI Shapefile')\n"
     ]
    },
    {
     "name": "stdout",
     "output_type": "stream",
     "text": [
      "ESRI Shapefile does not support datetime fields\n",
      "ESRI Shapefile does not support datetime fields\n",
      "ESRI Shapefile does not support datetime fields\n",
      "ESRI Shapefile does not support datetime fields\n",
      "ESRI Shapefile does not support datetime fields\n"
     ]
    },
    {
     "name": "stderr",
     "output_type": "stream",
     "text": [
      "C:\\Users\\nmenon\\AppData\\Local\\Temp\\ipykernel_11120\\4047933228.py:7: UserWarning: Column names longer than 10 characters will be truncated when saved to ESRI Shapefile.\n",
      "  gdf.to_file(f\"{save_path}/{layers[i]}.shp\", driver='ESRI Shapefile')\n",
      "C:\\Users\\nmenon\\AppData\\Local\\Temp\\ipykernel_11120\\4047933228.py:7: UserWarning: Column names longer than 10 characters will be truncated when saved to ESRI Shapefile.\n",
      "  gdf.to_file(f\"{save_path}/{layers[i]}.shp\", driver='ESRI Shapefile')\n"
     ]
    },
    {
     "name": "stdout",
     "output_type": "stream",
     "text": [
      "ESRI Shapefile does not support datetime fields\n"
     ]
    },
    {
     "name": "stderr",
     "output_type": "stream",
     "text": [
      "C:\\Users\\nmenon\\AppData\\Local\\Temp\\ipykernel_11120\\4047933228.py:7: UserWarning: Column names longer than 10 characters will be truncated when saved to ESRI Shapefile.\n",
      "  gdf.to_file(f\"{save_path}/{layers[i]}.shp\", driver='ESRI Shapefile')\n",
      "C:\\Users\\nmenon\\AppData\\Local\\Temp\\ipykernel_11120\\4047933228.py:7: UserWarning: Column names longer than 10 characters will be truncated when saved to ESRI Shapefile.\n",
      "  gdf.to_file(f\"{save_path}/{layers[i]}.shp\", driver='ESRI Shapefile')\n"
     ]
    },
    {
     "name": "stdout",
     "output_type": "stream",
     "text": [
      "ESRI Shapefile does not support datetime fields\n",
      "ESRI Shapefile does not support datetime fields\n",
      "ESRI Shapefile does not support datetime fields\n"
     ]
    },
    {
     "name": "stderr",
     "output_type": "stream",
     "text": [
      "C:\\Users\\nmenon\\AppData\\Local\\Temp\\ipykernel_11120\\4047933228.py:7: UserWarning: Column names longer than 10 characters will be truncated when saved to ESRI Shapefile.\n",
      "  gdf.to_file(f\"{save_path}/{layers[i]}.shp\", driver='ESRI Shapefile')\n",
      "C:\\Users\\nmenon\\AppData\\Local\\Temp\\ipykernel_11120\\4047933228.py:7: UserWarning: Column names longer than 10 characters will be truncated when saved to ESRI Shapefile.\n",
      "  gdf.to_file(f\"{save_path}/{layers[i]}.shp\", driver='ESRI Shapefile')\n",
      "C:\\Users\\nmenon\\AppData\\Local\\Temp\\ipykernel_11120\\4047933228.py:7: UserWarning: Column names longer than 10 characters will be truncated when saved to ESRI Shapefile.\n",
      "  gdf.to_file(f\"{save_path}/{layers[i]}.shp\", driver='ESRI Shapefile')\n",
      "C:\\Users\\nmenon\\AppData\\Local\\Temp\\ipykernel_11120\\4047933228.py:7: UserWarning: Column names longer than 10 characters will be truncated when saved to ESRI Shapefile.\n",
      "  gdf.to_file(f\"{save_path}/{layers[i]}.shp\", driver='ESRI Shapefile')\n",
      "C:\\Users\\nmenon\\AppData\\Local\\Temp\\ipykernel_11120\\4047933228.py:7: UserWarning: Column names longer than 10 characters will be truncated when saved to ESRI Shapefile.\n",
      "  gdf.to_file(f\"{save_path}/{layers[i]}.shp\", driver='ESRI Shapefile')\n"
     ]
    },
    {
     "name": "stdout",
     "output_type": "stream",
     "text": [
      "ESRI Shapefile does not support datetime fields\n",
      "ESRI Shapefile does not support datetime fields\n",
      "ESRI Shapefile does not support datetime fields\n",
      "ESRI Shapefile does not support datetime fields\n"
     ]
    },
    {
     "name": "stderr",
     "output_type": "stream",
     "text": [
      "C:\\Users\\nmenon\\AppData\\Local\\Temp\\ipykernel_11120\\4047933228.py:7: UserWarning: Column names longer than 10 characters will be truncated when saved to ESRI Shapefile.\n",
      "  gdf.to_file(f\"{save_path}/{layers[i]}.shp\", driver='ESRI Shapefile')\n"
     ]
    },
    {
     "name": "stdout",
     "output_type": "stream",
     "text": [
      "ESRI Shapefile does not support datetime fields\n"
     ]
    },
    {
     "name": "stderr",
     "output_type": "stream",
     "text": [
      "C:\\Users\\nmenon\\AppData\\Local\\Temp\\ipykernel_11120\\4047933228.py:7: UserWarning: Column names longer than 10 characters will be truncated when saved to ESRI Shapefile.\n",
      "  gdf.to_file(f\"{save_path}/{layers[i]}.shp\", driver='ESRI Shapefile')\n"
     ]
    },
    {
     "name": "stdout",
     "output_type": "stream",
     "text": [
      "ESRI Shapefile does not support datetime fields\n"
     ]
    },
    {
     "name": "stderr",
     "output_type": "stream",
     "text": [
      "C:\\Users\\nmenon\\AppData\\Local\\Temp\\ipykernel_11120\\4047933228.py:7: UserWarning: Column names longer than 10 characters will be truncated when saved to ESRI Shapefile.\n",
      "  gdf.to_file(f\"{save_path}/{layers[i]}.shp\", driver='ESRI Shapefile')\n"
     ]
    },
    {
     "name": "stdout",
     "output_type": "stream",
     "text": [
      "ESRI Shapefile does not support datetime fields\n"
     ]
    },
    {
     "name": "stderr",
     "output_type": "stream",
     "text": [
      "C:\\Users\\nmenon\\AppData\\Local\\Temp\\ipykernel_11120\\4047933228.py:7: UserWarning: Column names longer than 10 characters will be truncated when saved to ESRI Shapefile.\n",
      "  gdf.to_file(f\"{save_path}/{layers[i]}.shp\", driver='ESRI Shapefile')\n"
     ]
    },
    {
     "name": "stdout",
     "output_type": "stream",
     "text": [
      "ESRI Shapefile does not support datetime fields\n"
     ]
    },
    {
     "name": "stderr",
     "output_type": "stream",
     "text": [
      "C:\\Users\\nmenon\\AppData\\Local\\Temp\\ipykernel_11120\\4047933228.py:7: UserWarning: Column names longer than 10 characters will be truncated when saved to ESRI Shapefile.\n",
      "  gdf.to_file(f\"{save_path}/{layers[i]}.shp\", driver='ESRI Shapefile')\n"
     ]
    },
    {
     "name": "stdout",
     "output_type": "stream",
     "text": [
      "ESRI Shapefile does not support datetime fields\n",
      "ESRI Shapefile does not support datetime fields\n",
      "ESRI Shapefile does not support datetime fields\n"
     ]
    },
    {
     "name": "stderr",
     "output_type": "stream",
     "text": [
      "C:\\Users\\nmenon\\AppData\\Local\\Temp\\ipykernel_11120\\4047933228.py:7: UserWarning: Column names longer than 10 characters will be truncated when saved to ESRI Shapefile.\n",
      "  gdf.to_file(f\"{save_path}/{layers[i]}.shp\", driver='ESRI Shapefile')\n",
      "C:\\Users\\nmenon\\AppData\\Local\\Temp\\ipykernel_11120\\4047933228.py:7: UserWarning: Column names longer than 10 characters will be truncated when saved to ESRI Shapefile.\n",
      "  gdf.to_file(f\"{save_path}/{layers[i]}.shp\", driver='ESRI Shapefile')\n",
      "C:\\Users\\nmenon\\AppData\\Local\\Temp\\ipykernel_11120\\4047933228.py:7: UserWarning: Column names longer than 10 characters will be truncated when saved to ESRI Shapefile.\n",
      "  gdf.to_file(f\"{save_path}/{layers[i]}.shp\", driver='ESRI Shapefile')\n",
      "C:\\Users\\nmenon\\AppData\\Local\\Temp\\ipykernel_11120\\4047933228.py:7: UserWarning: Column names longer than 10 characters will be truncated when saved to ESRI Shapefile.\n",
      "  gdf.to_file(f\"{save_path}/{layers[i]}.shp\", driver='ESRI Shapefile')\n",
      "C:\\Users\\nmenon\\AppData\\Local\\Temp\\ipykernel_11120\\4047933228.py:7: UserWarning: Column names longer than 10 characters will be truncated when saved to ESRI Shapefile.\n",
      "  gdf.to_file(f\"{save_path}/{layers[i]}.shp\", driver='ESRI Shapefile')\n",
      "C:\\Users\\nmenon\\AppData\\Local\\Temp\\ipykernel_11120\\4047933228.py:7: UserWarning: Column names longer than 10 characters will be truncated when saved to ESRI Shapefile.\n",
      "  gdf.to_file(f\"{save_path}/{layers[i]}.shp\", driver='ESRI Shapefile')\n",
      "C:\\Users\\nmenon\\AppData\\Local\\Temp\\ipykernel_11120\\4047933228.py:7: UserWarning: Column names longer than 10 characters will be truncated when saved to ESRI Shapefile.\n",
      "  gdf.to_file(f\"{save_path}/{layers[i]}.shp\", driver='ESRI Shapefile')\n",
      "C:\\Users\\nmenon\\AppData\\Local\\Temp\\ipykernel_11120\\4047933228.py:7: UserWarning: Column names longer than 10 characters will be truncated when saved to ESRI Shapefile.\n",
      "  gdf.to_file(f\"{save_path}/{layers[i]}.shp\", driver='ESRI Shapefile')\n"
     ]
    },
    {
     "name": "stdout",
     "output_type": "stream",
     "text": [
      "ESRI Shapefile does not support datetime fields\n",
      "ESRI Shapefile does not support datetime fields\n",
      "ESRI Shapefile does not support datetime fields\n",
      "ESRI Shapefile does not support datetime fields\n",
      "ESRI Shapefile does not support datetime fields\n",
      "ESRI Shapefile does not support datetime fields\n"
     ]
    },
    {
     "name": "stderr",
     "output_type": "stream",
     "text": [
      "C:\\Users\\nmenon\\AppData\\Local\\Temp\\ipykernel_11120\\4047933228.py:7: UserWarning: Column names longer than 10 characters will be truncated when saved to ESRI Shapefile.\n",
      "  gdf.to_file(f\"{save_path}/{layers[i]}.shp\", driver='ESRI Shapefile')\n",
      "C:\\Users\\nmenon\\AppData\\Local\\Temp\\ipykernel_11120\\4047933228.py:7: UserWarning: Column names longer than 10 characters will be truncated when saved to ESRI Shapefile.\n",
      "  gdf.to_file(f\"{save_path}/{layers[i]}.shp\", driver='ESRI Shapefile')\n"
     ]
    },
    {
     "name": "stdout",
     "output_type": "stream",
     "text": [
      "GDAL Error: Coordinates with non-finite values are not allowed. Failed to write record: <fiona.model.Feature object at 0x00000216167675D0>\n",
      "ESRI Shapefile does not support datetime fields\n",
      "ESRI Shapefile does not support datetime fields\n"
     ]
    },
    {
     "name": "stderr",
     "output_type": "stream",
     "text": [
      "C:\\Users\\nmenon\\AppData\\Local\\Temp\\ipykernel_11120\\4047933228.py:7: UserWarning: Column names longer than 10 characters will be truncated when saved to ESRI Shapefile.\n",
      "  gdf.to_file(f\"{save_path}/{layers[i]}.shp\", driver='ESRI Shapefile')\n",
      "C:\\Users\\nmenon\\AppData\\Local\\Temp\\ipykernel_11120\\4047933228.py:7: UserWarning: Column names longer than 10 characters will be truncated when saved to ESRI Shapefile.\n",
      "  gdf.to_file(f\"{save_path}/{layers[i]}.shp\", driver='ESRI Shapefile')\n",
      "C:\\Users\\nmenon\\AppData\\Local\\Temp\\ipykernel_11120\\4047933228.py:7: UserWarning: Column names longer than 10 characters will be truncated when saved to ESRI Shapefile.\n",
      "  gdf.to_file(f\"{save_path}/{layers[i]}.shp\", driver='ESRI Shapefile')\n",
      "C:\\Users\\nmenon\\AppData\\Local\\Temp\\ipykernel_11120\\4047933228.py:7: UserWarning: Column names longer than 10 characters will be truncated when saved to ESRI Shapefile.\n",
      "  gdf.to_file(f\"{save_path}/{layers[i]}.shp\", driver='ESRI Shapefile')\n"
     ]
    },
    {
     "name": "stdout",
     "output_type": "stream",
     "text": [
      "GDAL Error: Coordinates with non-finite values are not allowed. Failed to write record: <fiona.model.Feature object at 0x000002161FD8AE90>\n"
     ]
    },
    {
     "name": "stderr",
     "output_type": "stream",
     "text": [
      "C:\\Users\\nmenon\\AppData\\Local\\Temp\\ipykernel_11120\\4047933228.py:7: UserWarning: Column names longer than 10 characters will be truncated when saved to ESRI Shapefile.\n",
      "  gdf.to_file(f\"{save_path}/{layers[i]}.shp\", driver='ESRI Shapefile')\n",
      "C:\\Users\\nmenon\\AppData\\Local\\Temp\\ipykernel_11120\\4047933228.py:7: UserWarning: Column names longer than 10 characters will be truncated when saved to ESRI Shapefile.\n",
      "  gdf.to_file(f\"{save_path}/{layers[i]}.shp\", driver='ESRI Shapefile')\n",
      "C:\\Users\\nmenon\\AppData\\Local\\Temp\\ipykernel_11120\\4047933228.py:7: UserWarning: Column names longer than 10 characters will be truncated when saved to ESRI Shapefile.\n",
      "  gdf.to_file(f\"{save_path}/{layers[i]}.shp\", driver='ESRI Shapefile')\n"
     ]
    },
    {
     "name": "stdout",
     "output_type": "stream",
     "text": [
      "GDAL Error: Coordinates with non-finite values are not allowed. Failed to write record: <fiona.model.Feature object at 0x000002161AB64FD0>\n"
     ]
    },
    {
     "name": "stderr",
     "output_type": "stream",
     "text": [
      "C:\\Users\\nmenon\\AppData\\Local\\Temp\\ipykernel_11120\\4047933228.py:7: UserWarning: Column names longer than 10 characters will be truncated when saved to ESRI Shapefile.\n",
      "  gdf.to_file(f\"{save_path}/{layers[i]}.shp\", driver='ESRI Shapefile')\n"
     ]
    },
    {
     "name": "stdout",
     "output_type": "stream",
     "text": [
      "ESRI Shapefile does not support datetime fields\n"
     ]
    },
    {
     "name": "stderr",
     "output_type": "stream",
     "text": [
      "C:\\Users\\nmenon\\AppData\\Local\\Temp\\ipykernel_11120\\4047933228.py:7: UserWarning: Column names longer than 10 characters will be truncated when saved to ESRI Shapefile.\n",
      "  gdf.to_file(f\"{save_path}/{layers[i]}.shp\", driver='ESRI Shapefile')\n",
      "C:\\Users\\nmenon\\AppData\\Local\\Temp\\ipykernel_11120\\4047933228.py:7: UserWarning: Column names longer than 10 characters will be truncated when saved to ESRI Shapefile.\n",
      "  gdf.to_file(f\"{save_path}/{layers[i]}.shp\", driver='ESRI Shapefile')\n",
      "C:\\Users\\nmenon\\AppData\\Local\\Temp\\ipykernel_11120\\4047933228.py:7: UserWarning: Column names longer than 10 characters will be truncated when saved to ESRI Shapefile.\n",
      "  gdf.to_file(f\"{save_path}/{layers[i]}.shp\", driver='ESRI Shapefile')\n"
     ]
    },
    {
     "name": "stdout",
     "output_type": "stream",
     "text": [
      "ESRI Shapefile does not support datetime fields\n",
      "GDAL Error: Coordinates with non-finite values are not allowed. Failed to write record: <fiona.model.Feature object at 0x00000216156A4390>\n"
     ]
    },
    {
     "name": "stderr",
     "output_type": "stream",
     "text": [
      "C:\\Users\\nmenon\\AppData\\Local\\Temp\\ipykernel_11120\\4047933228.py:7: UserWarning: Column names longer than 10 characters will be truncated when saved to ESRI Shapefile.\n",
      "  gdf.to_file(f\"{save_path}/{layers[i]}.shp\", driver='ESRI Shapefile')\n",
      "C:\\Users\\nmenon\\AppData\\Local\\Temp\\ipykernel_11120\\4047933228.py:7: UserWarning: Column names longer than 10 characters will be truncated when saved to ESRI Shapefile.\n",
      "  gdf.to_file(f\"{save_path}/{layers[i]}.shp\", driver='ESRI Shapefile')\n",
      "C:\\Users\\nmenon\\AppData\\Local\\Temp\\ipykernel_11120\\4047933228.py:7: UserWarning: Column names longer than 10 characters will be truncated when saved to ESRI Shapefile.\n",
      "  gdf.to_file(f\"{save_path}/{layers[i]}.shp\", driver='ESRI Shapefile')\n",
      "C:\\Users\\nmenon\\AppData\\Local\\Temp\\ipykernel_11120\\4047933228.py:7: UserWarning: Column names longer than 10 characters will be truncated when saved to ESRI Shapefile.\n",
      "  gdf.to_file(f\"{save_path}/{layers[i]}.shp\", driver='ESRI Shapefile')\n",
      "C:\\Users\\nmenon\\AppData\\Local\\Temp\\ipykernel_11120\\4047933228.py:7: UserWarning: Column names longer than 10 characters will be truncated when saved to ESRI Shapefile.\n",
      "  gdf.to_file(f\"{save_path}/{layers[i]}.shp\", driver='ESRI Shapefile')\n",
      "C:\\Users\\nmenon\\AppData\\Local\\Temp\\ipykernel_11120\\4047933228.py:7: UserWarning: Column names longer than 10 characters will be truncated when saved to ESRI Shapefile.\n",
      "  gdf.to_file(f\"{save_path}/{layers[i]}.shp\", driver='ESRI Shapefile')\n",
      "C:\\Users\\nmenon\\AppData\\Local\\Temp\\ipykernel_11120\\4047933228.py:7: UserWarning: Column names longer than 10 characters will be truncated when saved to ESRI Shapefile.\n",
      "  gdf.to_file(f\"{save_path}/{layers[i]}.shp\", driver='ESRI Shapefile')\n",
      "C:\\Users\\nmenon\\AppData\\Local\\Temp\\ipykernel_11120\\4047933228.py:7: UserWarning: Column names longer than 10 characters will be truncated when saved to ESRI Shapefile.\n",
      "  gdf.to_file(f\"{save_path}/{layers[i]}.shp\", driver='ESRI Shapefile')\n"
     ]
    },
    {
     "name": "stdout",
     "output_type": "stream",
     "text": [
      "ESRI Shapefile does not support datetime fields\n"
     ]
    },
    {
     "name": "stderr",
     "output_type": "stream",
     "text": [
      "C:\\Users\\nmenon\\AppData\\Local\\Temp\\ipykernel_11120\\4047933228.py:7: UserWarning: Column names longer than 10 characters will be truncated when saved to ESRI Shapefile.\n",
      "  gdf.to_file(f\"{save_path}/{layers[i]}.shp\", driver='ESRI Shapefile')\n"
     ]
    }
   ],
   "source": [
    "for i in range(len(layers)):\n",
    "    try:\n",
    "        gdf = gdf_dict[layers[i]].to_crs(crs = CRS)\n",
    "        shape_path = \"E:\\\\ABLE\\\\Modifiers\\\\Data\\\\Shapefiles\\\\\"\n",
    "        save_path = os.path.join(shape_path, layers[i])\n",
    "        os.mkdir(save_path)\n",
    "        gdf.to_file(f\"{save_path}/{layers[i]}.shp\", driver='ESRI Shapefile')\n",
    "    except (fiona.errors.DriverSupportError, Exception) as e:\n",
    "        print(e)\n",
    "        gdf_error.append(layers[i])"
   ]
  },
  {
   "cell_type": "code",
   "execution_count": 46,
   "metadata": {},
   "outputs": [],
   "source": [
    "pth = os.path.join(shape_path, \"L0WA_Main_Roads___State_Roads\")\n",
    "ss = gpd.read_file(f\"{pth}/L0WA_Main_Roads___State_Roads.shp\")"
   ]
  },
  {
   "cell_type": "markdown",
   "metadata": {},
   "source": [
    "## Sub Pre-processing \n",
    "\n",
    "Specific sub processing codes for each layer are hidden. Double click on the comment to unhide the code. "
   ]
  },
  {
   "cell_type": "code",
   "execution_count": 22,
   "metadata": {},
   "outputs": [],
   "source": [
    "edit = pd.DataFrame({\"layer\" : gdf_error})\n",
    "edit.to_csv(\"E:\\\\ABLE\\\\Modifiers\\\\Data\\\\gdf_error.csv\")"
   ]
  },
  {
   "cell_type": "code",
   "execution_count": 551,
   "metadata": {},
   "outputs": [
    {
     "data": {
      "text/plain": [
       "'L14WA_Major_Aviation_Terminals_Points'"
      ]
     },
     "execution_count": 551,
     "metadata": {},
     "output_type": "execute_result"
    }
   ],
   "source": [
    "# layer\n",
    "gdf_layer = gdf_error[46]\n",
    "gdf_layer"
   ]
  },
  {
   "cell_type": "code",
   "execution_count": 71,
   "metadata": {},
   "outputs": [],
   "source": [
    "## L17CAPAD_NatureReserve - 0\n",
    "#############################################################################\n",
    "\n",
    "# # layer\n",
    "# gdf_layer = gdf_error[0]\n",
    "\n",
    "# # file with error \n",
    "# temp = gdf_dict[gdf_layer]\n",
    "# temp = temp.to_crs(crs = CRS)\n",
    "# print(temp.columns)\n",
    "\n",
    "# # Clean data\n",
    "# temp = temp.drop([\"GAZ_DATE\", \"LATEST_GAZ\"], axis=1)\n",
    "\n",
    "# # Save cleaned data\n",
    "# shape_path = \"E:\\\\ABLE\\\\Modifiers\\\\Data\\\\Shapefiles\\\\\"\n",
    "# save_path = os.path.join(shape_path, gdf_layer)\n",
    "# temp.to_file(f\"{save_path}/{gdf_layer}.shp\", driver='ESRI Shapefile')\n",
    "\n",
    "# # Load again and check\n",
    "# aa = gpd.read_file(f\"{save_path}/{gdf_layer}.shp\")"
   ]
  },
  {
   "cell_type": "code",
   "execution_count": 42,
   "metadata": {},
   "outputs": [],
   "source": [
    "# # L3SECTION19 - 1\n",
    "# ############################################################################\n",
    "\n",
    "# # layer \n",
    "# gdf_layer = gdf_error[1]\n",
    "\n",
    "# # file with error \n",
    "# temp = gdf_dict[gdf_layer]\n",
    "# temp = temp.to_crs(crs = CRS)\n",
    "# print(temp.columns)\n",
    "\n",
    "# # Clean data\n",
    "# temp = temp.drop([\"STARTDATE\", \"ENDDATE\", \"EXTRACT_DA\"], axis=1)\n",
    "\n",
    "# # Save cleaned data\n",
    "# shape_path = \"E:\\\\ABLE\\\\Modifiers\\\\Data\\\\Shapefiles\\\\\"\n",
    "# save_path = os.path.join(shape_path, gdf_layer)\n",
    "# temp.to_file(f\"{save_path}/{gdf_layer}.shp\", driver='ESRI Shapefile')\n",
    "\n",
    "# # Load again and check\n",
    "# aa = gpd.read_file(f\"{save_path}/{gdf_layer}.shp\")"
   ]
  },
  {
   "cell_type": "code",
   "execution_count": 70,
   "metadata": {},
   "outputs": [],
   "source": [
    "# # L10WA_GA_Railway_Stations - 2\n",
    "# ############################################################################\n",
    "\n",
    "# # layer \n",
    "# gdf_layer = gdf_error[2]\n",
    "\n",
    "# # file with error \n",
    "# temp = gdf_dict[gdf_layer]\n",
    "# temp = temp.to_crs(crs = CRS)\n",
    "# print(temp.columns)\n",
    "\n",
    "# # Clean data\n",
    "# temp = temp.drop([\"FEATURE_DATE\", \"ATTRIBUTE_DATE\", \"LOADING_DATE\", \"SOURCE_SUPPLY_DATE\"], axis=1)\n",
    "\n",
    "# # Save cleaned data\n",
    "# shape_path = \"E:\\\\ABLE\\\\Modifiers\\\\Data\\\\Shapefiles\\\\\"\n",
    "# save_path = os.path.join(shape_path, gdf_layer)\n",
    "# temp.to_file(f\"{save_path}/{gdf_layer}.shp\", driver='ESRI Shapefile')\n",
    "\n",
    "# # Load again and check\n",
    "# aa = gpd.read_file(f\"{save_path}/{gdf_layer}.shp\")"
   ]
  },
  {
   "cell_type": "code",
   "execution_count": 60,
   "metadata": {},
   "outputs": [],
   "source": [
    "# # L9CAPAD_51gReserve - 3\n",
    "# ############################################################################\n",
    "\n",
    "# # layer \n",
    "# gdf_layer = gdf_error[3]\n",
    "\n",
    "# # file with error \n",
    "# temp = gdf_dict[gdf_layer]\n",
    "# temp = temp.to_crs(crs = CRS)\n",
    "# print(temp.columns)\n",
    "\n",
    "# # Clean data\n",
    "# temp = temp.drop([\"GAZ_DATE\", \"LATEST_GAZ\"], axis=1)\n",
    "\n",
    "# # Save cleaned data\n",
    "# shape_path = \"E:\\\\ABLE\\\\Modifiers\\\\Data\\\\Shapefiles\\\\\"\n",
    "# save_path = os.path.join(shape_path, gdf_layer)\n",
    "# temp.to_file(f\"{save_path}/{gdf_layer}.shp\", driver='ESRI Shapefile')\n",
    "\n",
    "# # Load again and check\n",
    "# aa = gpd.read_file(f\"{save_path}/{gdf_layer}.shp\")"
   ]
  },
  {
   "cell_type": "code",
   "execution_count": 72,
   "metadata": {},
   "outputs": [],
   "source": [
    "# # L13Northern_Mineral_Railways - 4\n",
    "# ############################################################################\n",
    "\n",
    "# # layer \n",
    "# gdf_layer = gdf_error[4]\n",
    "\n",
    "# # file with error \n",
    "# temp = gdf_dict[gdf_layer]\n",
    "# temp = temp.to_crs(crs = CRS)\n",
    "# print(temp.columns)\n",
    "\n",
    "# # Clean data\n",
    "# temp = temp.drop([\"FEATURE_DATE\", \"ATTRIBUTE_DATE\", \"LOADING_DATE\", \"SOURCE_SUPPLY_DATE\"], axis=1)\n",
    "\n",
    "# # Save cleaned data\n",
    "# shape_path = \"E:\\\\ABLE\\\\Modifiers\\\\Data\\\\Shapefiles\\\\\"\n",
    "# save_path = os.path.join(shape_path, gdf_layer)\n",
    "# temp.to_file(f\"{save_path}/{gdf_layer}.shp\", driver='ESRI Shapefile')\n",
    "\n",
    "# # Load again and check\n",
    "# aa = gpd.read_file(f\"{save_path}/{gdf_layer}.shp\")"
   ]
  },
  {
   "cell_type": "code",
   "execution_count": 85,
   "metadata": {},
   "outputs": [],
   "source": [
    "# # L7Electricity_Transmission_Lines - 5\n",
    "# ############################################################################\n",
    "\n",
    "# # layer \n",
    "# gdf_layer = gdf_error[5]\n",
    "\n",
    "# # file with error \n",
    "# temp = gdf_dict[gdf_layer]\n",
    "# temp = temp.to_crs(crs = CRS)\n",
    "# print(temp.columns)\n",
    "\n",
    "# # Clean data\n",
    "# temp = temp.drop([\"REVISED\"], axis=1)\n",
    "\n",
    "# # Save cleaned data\n",
    "# shape_path = \"E:\\\\ABLE\\\\Modifiers\\\\Data\\\\Shapefiles\\\\\"\n",
    "# save_path = os.path.join(shape_path, gdf_layer)\n",
    "# temp.to_file(f\"{save_path}/{gdf_layer}.shp\", driver='ESRI Shapefile')\n",
    "\n",
    "# # Load again and check\n",
    "# aa = gpd.read_file(f\"{save_path}/{gdf_layer}.shp\")"
   ]
  },
  {
   "cell_type": "code",
   "execution_count": 90,
   "metadata": {},
   "outputs": [],
   "source": [
    "# # L11Southern_Public_Railways - 6\n",
    "# ############################################################################\n",
    "\n",
    "# # layer \n",
    "# gdf_layer = gdf_error[6]\n",
    "\n",
    "# # file with error \n",
    "# temp = gdf_dict[gdf_layer]\n",
    "# temp = temp.to_crs(crs = CRS)\n",
    "# print(temp.columns)\n",
    "\n",
    "# # Clean data\n",
    "# temp = temp.drop([\"FEATURE_DATE\", \"ATTRIBUTE_DATE\", \"LOADING_DATE\", \"SOURCE_SUPPLY_DATE\"], axis=1)\n",
    "\n",
    "# # Save cleaned data\n",
    "# shape_path = \"E:\\\\ABLE\\\\Modifiers\\\\Data\\\\Shapefiles\\\\\"\n",
    "# save_path = os.path.join(shape_path, gdf_layer)\n",
    "# temp.to_file(f\"{save_path}/{gdf_layer}.shp\", driver='ESRI Shapefile')\n",
    "\n",
    "# # Load again and check\n",
    "# aa = gpd.read_file(f\"{save_path}/{gdf_layer}.shp\")"
   ]
  },
  {
   "cell_type": "code",
   "execution_count": null,
   "metadata": {},
   "outputs": [],
   "source": [
    "# # L5Contaminated_Sites_Database__DWER_059_ - 7\n",
    "# ############################################################################\n",
    "\n",
    "# # layer \n",
    "# gdf_layer = gdf_error[7]\n",
    "\n",
    "# # file with error \n",
    "# temp = gdf_dict[gdf_layer]\n",
    "# temp = temp.to_crs(crs = CRS)\n",
    "# print(temp.columns)\n",
    "\n",
    "# # Clean data\n",
    "# temp = temp.drop([\"classification_date\"], axis=1)\n",
    "\n",
    "# # Save cleaned data\n",
    "# shape_path = \"E:\\\\ABLE\\\\Modifiers\\\\Data\\\\Shapefiles\\\\\"\n",
    "# save_path = os.path.join(shape_path, gdf_layer)\n",
    "# temp.to_file(f\"{save_path}/{gdf_layer}.shp\", driver='ESRI Shapefile')\n",
    "\n",
    "# # Load again and check\n",
    "# aa = gpd.read_file(f\"{save_path}/{gdf_layer}.shp\")"
   ]
  },
  {
   "cell_type": "code",
   "execution_count": 125,
   "metadata": {},
   "outputs": [],
   "source": [
    "# # L9Gas_Pipelines - 8\n",
    "# ############################################################################\n",
    "\n",
    "# # layer \n",
    "# gdf_layer = gdf_error[8]\n",
    "\n",
    "# # file with error \n",
    "# temp = gdf_dict[gdf_layer]\n",
    "# temp = temp.to_crs(crs = CRS)\n",
    "# print(temp.columns)\n",
    "\n",
    "# # Clean data\n",
    "# temp = temp.drop([\"ISSUED\", \"EXPIRY\", \"EXTRACT_DATE\"], axis=1)\n",
    "\n",
    "# # Save cleaned data\n",
    "# shape_path = \"E:\\\\ABLE\\\\Modifiers\\\\Data\\\\Shapefiles\\\\\"\n",
    "# save_path = os.path.join(shape_path, gdf_layer)\n",
    "# temp.to_file(f\"{save_path}/{gdf_layer}.shp\", driver='ESRI Shapefile')\n",
    "\n",
    "# # Load again and check\n",
    "# aa = gpd.read_file(f\"{save_path}/{gdf_layer}.shp\")"
   ]
  },
  {
   "cell_type": "code",
   "execution_count": 137,
   "metadata": {},
   "outputs": [],
   "source": [
    "# # L28RIWI_Act__Groundwater_Areas__DWER_034_ - 9\n",
    "# ############################################################################\n",
    "\n",
    "# # layer \n",
    "# gdf_layer = gdf_error[9]\n",
    "\n",
    "# # file with error \n",
    "# temp = gdf_dict[gdf_layer]\n",
    "# temp = temp.to_crs(crs = CRS)\n",
    "# print(temp.columns)\n",
    "\n",
    "# # Clean data\n",
    "# temp = temp.drop([\"crt_date\", \"srce_date\", \"ret_date\", \"gaz_date\"], axis=1)\n",
    "\n",
    "# # Save cleaned data\n",
    "# shape_path = \"E:\\\\ABLE\\\\Modifiers\\\\Data\\\\Shapefiles\\\\\"\n",
    "# save_path = os.path.join(shape_path, gdf_layer)\n",
    "# temp.to_file(f\"{save_path}/{gdf_layer}.shp\", driver='ESRI Shapefile')\n",
    "\n",
    "# # Load again and check\n",
    "# aa = gpd.read_file(f\"{save_path}/{gdf_layer}.shp\")"
   ]
  },
  {
   "cell_type": "code",
   "execution_count": 145,
   "metadata": {},
   "outputs": [],
   "source": [
    "# # L6GA_Electricity_Transmission_Lines - 10\n",
    "# ############################################################################\n",
    "\n",
    "# # layer \n",
    "# gdf_layer = gdf_error[10]\n",
    "\n",
    "# # file with error \n",
    "# temp = gdf_dict[gdf_layer]\n",
    "# temp = temp.to_crs(crs = CRS)\n",
    "# print(temp.columns)\n",
    "\n",
    "# # Clean data\n",
    "# temp = temp.drop([\"REVISED\"], axis=1)\n",
    "\n",
    "# # Save cleaned data\n",
    "# shape_path = \"E:\\\\ABLE\\\\Modifiers\\\\Data\\\\Shapefiles\\\\\"\n",
    "# save_path = os.path.join(shape_path, gdf_layer)\n",
    "# temp.to_file(f\"{save_path}/{gdf_layer}.shp\", driver='ESRI Shapefile')\n",
    "\n",
    "# # Load again and check\n",
    "# aa = gpd.read_file(f\"{save_path}/{gdf_layer}.shp\")"
   ]
  },
  {
   "cell_type": "code",
   "execution_count": 164,
   "metadata": {},
   "outputs": [],
   "source": [
    "# # L5RNTBC_Nat - 11\n",
    "# ############################################################################\n",
    "\n",
    "# # layer \n",
    "# gdf_layer = gdf_error[11]\n",
    "\n",
    "# # file with error \n",
    "# temp = gdf_dict[gdf_layer]\n",
    "# temp = temp.to_crs(crs = CRS)\n",
    "# print(temp.columns)\n",
    "\n",
    "# # Clean data\n",
    "# temp = temp.drop([\"Status\", \"Date_extracted\"], axis=1)\n",
    "\n",
    "# # Save cleaned data\n",
    "# shape_path = \"E:\\\\ABLE\\\\Modifiers\\\\Data\\\\Shapefiles\\\\\"\n",
    "# save_path = os.path.join(shape_path, gdf_layer)\n",
    "# temp.to_file(f\"{save_path}/{gdf_layer}.shp\", driver='ESRI Shapefile')\n",
    "\n",
    "# # Load again and check\n",
    "# aa = gpd.read_file(f\"{save_path}/{gdf_layer}.shp\")"
   ]
  },
  {
   "cell_type": "code",
   "execution_count": 177,
   "metadata": {},
   "outputs": [],
   "source": [
    "# # L3Aboriginal_Heritage_Places__DPLH_001_ - 12\n",
    "# ############################################################################\n",
    "\n",
    "# # layer \n",
    "# gdf_layer = gdf_error[12]\n",
    "\n",
    "# # file with error \n",
    "# temp = gdf_dict[gdf_layer]\n",
    "# temp = temp.to_crs(crs = CRS)\n",
    "# print(temp.columns)\n",
    "\n",
    "# # Clean data\n",
    "# temp = temp.drop([\"boundary_last_update_date\", \"protected_area_gazetted_date\"], axis=1)\n",
    "\n",
    "# # Save cleaned data\n",
    "# shape_path = \"E:\\\\ABLE\\\\Modifiers\\\\Data\\\\Shapefiles\\\\\"\n",
    "# save_path = os.path.join(shape_path, gdf_layer)\n",
    "# temp.to_file(f\"{save_path}/{gdf_layer}.shp\", driver='ESRI Shapefile')\n",
    "\n",
    "# # Load again and check\n",
    "# aa = gpd.read_file(f\"{save_path}/{gdf_layer}.shp\")"
   ]
  },
  {
   "cell_type": "code",
   "execution_count": 206,
   "metadata": {},
   "outputs": [],
   "source": [
    "# # L11CAPAD_BotanicGardens - 13\n",
    "# ############################################################################\n",
    "\n",
    "# # layer \n",
    "# gdf_layer = gdf_error[13]\n",
    "\n",
    "# # file with error \n",
    "# temp = gdf_dict[gdf_layer]\n",
    "# temp = temp.to_crs(crs = CRS)\n",
    "# print(temp.columns)\n",
    "\n",
    "# # Clean data\n",
    "# temp = temp.drop([\"GAZ_DATE\", \"LATEST_GAZ\"], axis=1)\n",
    "\n",
    "# # Save cleaned data\n",
    "# shape_path = \"E:\\\\ABLE\\\\Modifiers\\\\Data\\\\Shapefiles\\\\\"\n",
    "# save_path = os.path.join(shape_path, gdf_layer)\n",
    "# temp.to_file(f\"{save_path}/{gdf_layer}.shp\", driver='ESRI Shapefile')\n",
    "\n",
    "# # Load again and check\n",
    "# aa = gpd.read_file(f\"{save_path}/{gdf_layer}.shp\")"
   ]
  },
  {
   "cell_type": "code",
   "execution_count": 205,
   "metadata": {},
   "outputs": [],
   "source": [
    "# # L12FADA_Nat - 14\n",
    "# ############################################################################\n",
    "\n",
    "# # layer \n",
    "# gdf_layer = gdf_error[14]\n",
    "\n",
    "# # file with error \n",
    "# temp = gdf_dict[gdf_layer]\n",
    "# temp = temp.to_crs(crs = CRS)\n",
    "# print(temp.columns)\n",
    "\n",
    "# # Clean data\n",
    "# temp = temp.drop([\"s29_Notif_Date\", \"Date_Lodged\", \"End_Negotiation_Date\", \"StatusDate\", \"Outcome_Date\", \"Date_extracted\"], axis=1)\n",
    "\n",
    "# # Save cleaned data\n",
    "# shape_path = \"E:\\\\ABLE\\\\Modifiers\\\\Data\\\\Shapefiles\\\\\"\n",
    "# save_path = os.path.join(shape_path, gdf_layer)\n",
    "# temp.to_file(f\"{save_path}/{gdf_layer}.shp\", driver='ESRI Shapefile')\n",
    "\n",
    "# # Load again and check\n",
    "# aa = gpd.read_file(f\"{save_path}/{gdf_layer}.shp\")"
   ]
  },
  {
   "cell_type": "code",
   "execution_count": 216,
   "metadata": {},
   "outputs": [],
   "source": [
    "# # L0SEC57_4 - 15\n",
    "# ############################################################################\n",
    "\n",
    "# # layer \n",
    "# gdf_layer = gdf_error[15]\n",
    "\n",
    "# # file with error \n",
    "# temp = gdf_dict[gdf_layer]\n",
    "# temp = temp.to_crs(crs = CRS)\n",
    "# print(temp.columns)\n",
    "\n",
    "# # Clean data\n",
    "# temp = temp.drop([\"STARTDATE\", \"ENDDATE\", \"EXTRACT_DATE\"], axis=1)\n",
    "\n",
    "# # Save cleaned data\n",
    "# shape_path = \"E:\\\\ABLE\\\\Modifiers\\\\Data\\\\Shapefiles\\\\\"\n",
    "# save_path = os.path.join(shape_path, gdf_layer)\n",
    "# temp.to_file(f\"{save_path}/{gdf_layer}.shp\", driver='ESRI Shapefile')\n",
    "\n",
    "# # Load again and check\n",
    "# aa = gpd.read_file(f\"{save_path}/{gdf_layer}.shp\")"
   ]
  },
  {
   "cell_type": "code",
   "execution_count": 225,
   "metadata": {},
   "outputs": [],
   "source": [
    "# # L2Aboriginal_Communities_and_Town_Reserves__DPLH_002_ - 16\n",
    "# ############################################################################\n",
    "\n",
    "# # layer \n",
    "# gdf_layer = gdf_error[16]\n",
    "\n",
    "# # file with error \n",
    "# temp = gdf_dict[gdf_layer]\n",
    "# temp = temp.to_crs(crs = CRS)\n",
    "# print(temp.columns)\n",
    "\n",
    "# # Clean data\n",
    "# temp = temp.drop([\"population_source_date\", \"last_reviewed_date\", \"last_reviewed_human_services\"], axis=1)\n",
    "\n",
    "# # Save cleaned data\n",
    "# shape_path = \"E:\\\\ABLE\\\\Modifiers\\\\Data\\\\Shapefiles\\\\\"\n",
    "# save_path = os.path.join(shape_path, gdf_layer)\n",
    "# temp.to_file(f\"{save_path}/{gdf_layer}.shp\", driver='ESRI Shapefile')\n",
    "\n",
    "# # Load again and check\n",
    "# aa = gpd.read_file(f\"{save_path}/{gdf_layer}.shp\")"
   ]
  },
  {
   "cell_type": "code",
   "execution_count": 239,
   "metadata": {},
   "outputs": [],
   "source": [
    "# # L3Native_Title_Nat - 17\n",
    "# ############################################################################\n",
    "\n",
    "# # layer \n",
    "# gdf_layer = gdf_error[17]\n",
    "\n",
    "# # file with error \n",
    "# temp = gdf_dict[gdf_layer]\n",
    "# temp = temp.to_crs(crs = CRS)\n",
    "# print(temp.columns)\n",
    "\n",
    "# # Clean data\n",
    "# temp = temp.drop([\"Determination_Date\", \"NNTR_Registration_Date\", \"Date_extracted\", \"Date_Currency\"], axis=1)\n",
    "\n",
    "# # Save cleaned data\n",
    "# shape_path = \"E:\\\\ABLE\\\\Modifiers\\\\Data\\\\Shapefiles\\\\\"\n",
    "# save_path = os.path.join(shape_path, gdf_layer)\n",
    "# temp.to_file(f\"{save_path}/{gdf_layer}.shp\", driver='ESRI Shapefile')\n",
    "\n",
    "# # Load again and check\n",
    "# aa = gpd.read_file(f\"{save_path}/{gdf_layer}.shp\")"
   ]
  },
  {
   "cell_type": "code",
   "execution_count": 246,
   "metadata": {},
   "outputs": [],
   "source": [
    "# # L16Bush_Fire_Prone_Areas_2021__OBRM_019_ - 18\n",
    "# ############################################################################\n",
    "\n",
    "# # layer \n",
    "# gdf_layer = gdf_error[18]\n",
    "\n",
    "# # file with error \n",
    "# temp = gdf_dict[gdf_layer]\n",
    "# temp = temp.to_crs(crs = CRS)\n",
    "# print(temp.columns)\n",
    "\n",
    "# # Clean data\n",
    "# temp = temp.drop([\"designationdate\"], axis=1)\n",
    "\n",
    "# # Save cleaned data\n",
    "# shape_path = \"E:\\\\ABLE\\\\Modifiers\\\\Data\\\\Shapefiles\\\\\"\n",
    "# save_path = os.path.join(shape_path, gdf_layer)\n",
    "# temp.to_file(f\"{save_path}/{gdf_layer}.shp\", driver='ESRI Shapefile')\n",
    "\n",
    "# # Load again and check\n",
    "# aa = gpd.read_file(f\"{save_path}/{gdf_layer}.shp\")"
   ]
  },
  {
   "cell_type": "code",
   "execution_count": 248,
   "metadata": {},
   "outputs": [],
   "source": [
    "# # L4s31_Agreements_Nat - 19\n",
    "# ############################################################################\n",
    "\n",
    "# # layer \n",
    "# gdf_layer = gdf_error[19]\n",
    "\n",
    "# # file with error \n",
    "# temp = gdf_dict[gdf_layer]\n",
    "# temp = temp.to_crs(crs = CRS)\n",
    "# print(temp.columns)\n",
    "\n",
    "# # Clean data\n",
    "# temp = temp.drop([\"Date_Received\", \"Date_extracted\"], axis=1)\n",
    "\n",
    "# # Save cleaned data\n",
    "# shape_path = \"E:\\\\ABLE\\\\Modifiers\\\\Data\\\\Shapefiles\\\\\"\n",
    "# save_path = os.path.join(shape_path, gdf_layer)\n",
    "# temp.to_file(f\"{save_path}/{gdf_layer}.shp\", driver='ESRI Shapefile')\n",
    "\n",
    "# # Load again and check\n",
    "# aa = gpd.read_file(f\"{save_path}/{gdf_layer}.shp\")"
   ]
  },
  {
   "cell_type": "code",
   "execution_count": 262,
   "metadata": {},
   "outputs": [],
   "source": [
    "# # L6RATSIB_Nat - 20\n",
    "# ############################################################################\n",
    "\n",
    "# # layer \n",
    "# gdf_layer = gdf_error[20]\n",
    "\n",
    "# # file with error \n",
    "# temp = gdf_dict[gdf_layer]\n",
    "# temp = temp.to_crs(crs = CRS)\n",
    "# print(temp.columns)\n",
    "\n",
    "# # Clean data\n",
    "# temp = temp.drop([\"Date_extracted\"], axis=1)\n",
    "\n",
    "# # Save cleaned data\n",
    "# shape_path = \"E:\\\\ABLE\\\\Modifiers\\\\Data\\\\Shapefiles\\\\\"\n",
    "# save_path = os.path.join(shape_path, gdf_layer)\n",
    "# temp.to_file(f\"{save_path}/{gdf_layer}.shp\", driver='ESRI Shapefile')\n",
    "\n",
    "# # Load again and check\n",
    "# aa = gpd.read_file(f\"{save_path}/{gdf_layer}.shp\")"
   ]
  },
  {
   "cell_type": "code",
   "execution_count": 270,
   "metadata": {},
   "outputs": [],
   "source": [
    "# # L16CAPAD_NationalPark - 21\n",
    "# ############################################################################\n",
    "\n",
    "# # layer \n",
    "# gdf_layer = gdf_error[21]\n",
    "\n",
    "# # file with error \n",
    "# temp = gdf_dict[gdf_layer]\n",
    "# temp = temp.to_crs(crs = CRS)\n",
    "# print(temp.columns)\n",
    "\n",
    "# # Clean data\n",
    "# temp = temp.drop([\"GAZ_DATE\", \"LATEST_GAZ\"], axis=1)\n",
    "\n",
    "# # Save cleaned data\n",
    "# shape_path = \"E:\\\\ABLE\\\\Modifiers\\\\Data\\\\Shapefiles\\\\\"\n",
    "# save_path = os.path.join(shape_path, gdf_layer)\n",
    "# temp.to_file(f\"{save_path}/{gdf_layer}.shp\", driver='ESRI Shapefile')\n",
    "\n",
    "# # Load again and check\n",
    "# aa = gpd.read_file(f\"{save_path}/{gdf_layer}.shp\")"
   ]
  },
  {
   "cell_type": "code",
   "execution_count": 280,
   "metadata": {},
   "outputs": [],
   "source": [
    "# # L7NTDA_Schedule_Nat - 22\n",
    "# ############################################################################\n",
    "\n",
    "# # layer \n",
    "# gdf_layer = gdf_error[22]\n",
    "\n",
    "# # file with error \n",
    "# temp = gdf_dict[gdf_layer]\n",
    "# temp = temp.to_crs(crs = CRS)\n",
    "# print(temp.columns)\n",
    "\n",
    "# # Clean data\n",
    "# temp = temp.drop([\"Date_Lodged\", \"Date_Status_Effective\", \"Date_RT_Decision\", \n",
    "#                  \"Date_CurrentReg\", \"Date_NTRI\", \"Date_Notn_Close\", \"Date_Last_FC_Order\", \n",
    "#                  \"Date_Currency\", \"Date_extracted\"], axis=1)\n",
    "\n",
    "# # Save cleaned data\n",
    "# shape_path = \"E:\\\\ABLE\\\\Modifiers\\\\Data\\\\Shapefiles\\\\\"\n",
    "# save_path = os.path.join(shape_path, gdf_layer)\n",
    "# temp.to_file(f\"{save_path}/{gdf_layer}.shp\", driver='ESRI Shapefile')\n",
    "\n",
    "# # Load again and check\n",
    "# aa = gpd.read_file(f\"{save_path}/{gdf_layer}.shp\")"
   ]
  },
  {
   "cell_type": "code",
   "execution_count": 290,
   "metadata": {},
   "outputs": [],
   "source": [
    "# # L30RIWI_Act__Surface_Water_Areas_and_Irrigation_Districts__DWER_037_ - 23\n",
    "# ############################################################################\n",
    "\n",
    "# # layer \n",
    "# gdf_layer = gdf_error[23]\n",
    "\n",
    "# # file with error \n",
    "# temp = gdf_dict[gdf_layer]\n",
    "# temp = temp.to_crs(crs = CRS)\n",
    "# print(temp.columns)\n",
    "\n",
    "# # Clean data\n",
    "# temp = temp.drop([\"gaz_date\"], axis=1)\n",
    "\n",
    "# # Save cleaned data\n",
    "# shape_path = \"E:\\\\ABLE\\\\Modifiers\\\\Data\\\\Shapefiles\\\\\"\n",
    "# save_path = os.path.join(shape_path, gdf_layer)\n",
    "# temp.to_file(f\"{save_path}/{gdf_layer}.shp\", driver='ESRI Shapefile')\n",
    "\n",
    "# # Load again and check\n",
    "# aa = gpd.read_file(f\"{save_path}/{gdf_layer}.shp\")"
   ]
  },
  {
   "cell_type": "code",
   "execution_count": 296,
   "metadata": {},
   "outputs": [],
   "source": [
    "# # L8NTDA_Register_Nat - 24\n",
    "# ############################################################################\n",
    "\n",
    "# # layer \n",
    "# gdf_layer = gdf_error[24]\n",
    "\n",
    "# # file with error \n",
    "# temp = gdf_dict[gdf_layer]\n",
    "# temp = temp.to_crs(crs = CRS)\n",
    "# print(temp.columns)\n",
    "\n",
    "# # Clean data\n",
    "# temp = temp.drop([\"Date_Lodged\", \"Date_Status_Effective\", \"Date_RT_Decision\", \"Date_CurrentReg\", \n",
    "#                   \"Date_NTRI\", \"Date_Notn_Close\", \"Date_Last_FC_Order\", \"Date_Currency\", \"Date_extracted\"], axis=1)\n",
    "\n",
    "# # Save cleaned data\n",
    "# shape_path = \"E:\\\\ABLE\\\\Modifiers\\\\Data\\\\Shapefiles\\\\\"\n",
    "# save_path = os.path.join(shape_path, gdf_layer)\n",
    "# temp.to_file(f\"{save_path}/{gdf_layer}.shp\", driver='ESRI Shapefile')\n",
    "\n",
    "# # Load again and check\n",
    "# aa = gpd.read_file(f\"{save_path}/{gdf_layer}.shp\")"
   ]
  },
  {
   "cell_type": "code",
   "execution_count": 304,
   "metadata": {},
   "outputs": [],
   "source": [
    "# # L9NTD_Register_Nat - 25\n",
    "# ############################################################################\n",
    "\n",
    "# # layer \n",
    "# gdf_layer = gdf_error[25]\n",
    "\n",
    "# # file with error \n",
    "# temp = gdf_dict[gdf_layer]\n",
    "# temp = temp.to_crs(crs = CRS)\n",
    "# print(temp.columns)\n",
    "\n",
    "# # Clean data\n",
    "# temp = temp.drop([\"Determination_Date\", \"NNTR_Registration_Date\", \"Date_Currency\", \"Date_extracted\"], axis=1)\n",
    "\n",
    "# # Save cleaned data\n",
    "# shape_path = \"E:\\\\ABLE\\\\Modifiers\\\\Data\\\\Shapefiles\\\\\"\n",
    "# save_path = os.path.join(shape_path, gdf_layer)\n",
    "# temp.to_file(f\"{save_path}/{gdf_layer}.shp\", driver='ESRI Shapefile')\n",
    "\n",
    "# # Load again and check\n",
    "# aa = gpd.read_file(f\"{save_path}/{gdf_layer}.shp\")"
   ]
  },
  {
   "cell_type": "code",
   "execution_count": 346,
   "metadata": {},
   "outputs": [],
   "source": [
    "# # L10NTDA_Transaction_Nat - 26\n",
    "# ############################################################################\n",
    "\n",
    "# # layer \n",
    "# gdf_layer = gdf_error[26]\n",
    "\n",
    "# # file with error \n",
    "# temp = gdf_dict[gdf_layer]\n",
    "# temp = temp.to_crs(crs = CRS)\n",
    "# print(temp.columns)\n",
    "\n",
    "# # Clean data\n",
    "# temp = temp.drop([\"Date_Lodged\", \"Date_Currency\", \"Start_Date\", \"End_Date\", \"Date_extracted\"], axis=1)\n",
    "\n",
    "# # Save cleaned data\n",
    "# shape_path = \"E:\\\\ABLE\\\\Modifiers\\\\Data\\\\Shapefiles\\\\\"\n",
    "# save_path = os.path.join(shape_path, gdf_layer)\n",
    "# temp.to_file(f\"{save_path}/{gdf_layer}.shp\", driver='ESRI Shapefile')\n",
    "\n",
    "# # Load again and check\n",
    "# aa = gpd.read_file(f\"{save_path}/{gdf_layer}.shp\")"
   ]
  },
  {
   "cell_type": "code",
   "execution_count": 363,
   "metadata": {},
   "outputs": [],
   "source": [
    "# # L11ILUA_Nat_Reg_Notified - 27\n",
    "# ############################################################################\n",
    "\n",
    "# # layer \n",
    "# gdf_layer = gdf_error[27]\n",
    "\n",
    "# # file with error \n",
    "# temp = gdf_dict[gdf_layer]\n",
    "# temp = temp.to_crs(crs = CRS)\n",
    "# print(temp.columns)\n",
    "\n",
    "# # Clean data\n",
    "# temp = temp.drop([\"Date_Lodged\", \"Date_Notified\", \"Date_Notn_Close\", \"Date_Registered\", \n",
    "#                  \"Timeframe_Start_Date\", \"Timeframe_End_Date\", \"Date_Currency\", \"Date_extracted\", \"Date_Assistance\"], axis=1)\n",
    "\n",
    "# # Save cleaned data\n",
    "# shape_path = \"E:\\\\ABLE\\\\Modifiers\\\\Data\\\\Shapefiles\\\\\"\n",
    "# save_path = os.path.join(shape_path, gdf_layer)\n",
    "# temp.to_file(f\"{save_path}/{gdf_layer}.shp\", driver='ESRI Shapefile')\n",
    "\n",
    "# # Load again and check\n",
    "# aa = gpd.read_file(f\"{save_path}/{gdf_layer}.shp\")"
   ]
  },
  {
   "cell_type": "code",
   "execution_count": 372,
   "metadata": {},
   "outputs": [],
   "source": [
    "# # L13FA_Objections_Nat - 28\n",
    "# ############################################################################\n",
    "\n",
    "# # layer \n",
    "# gdf_layer = gdf_error[28]\n",
    "\n",
    "# # file with error \n",
    "# temp = gdf_dict[gdf_layer]\n",
    "# temp = temp.to_crs(crs = CRS)\n",
    "# print(temp.columns)\n",
    "\n",
    "# # Clean data\n",
    "# temp = temp.drop([\"s29_Notif_Date\", \"Date_Lodged\", \"End_Negotiation_Date\", \n",
    "#                   \"StatusDate\", \"Outcome_Date\", \"Date_extracted\"], axis=1)\n",
    "\n",
    "# # Save cleaned data\n",
    "# shape_path = \"E:\\\\ABLE\\\\Modifiers\\\\Data\\\\Shapefiles\\\\\"\n",
    "# save_path = os.path.join(shape_path, gdf_layer)\n",
    "# temp.to_file(f\"{save_path}/{gdf_layer}.shp\", driver='ESRI Shapefile')\n",
    "\n",
    "# # Load again and check\n",
    "# aa = gpd.read_file(f\"{save_path}/{gdf_layer}.shp\")"
   ]
  },
  {
   "cell_type": "code",
   "execution_count": 408,
   "metadata": {},
   "outputs": [],
   "source": [
    "# # L14FA_Notices_Nat - 29\n",
    "# ############################################################################\n",
    "\n",
    "# # layer \n",
    "# gdf_layer = gdf_error[29]\n",
    "\n",
    "# # file with error \n",
    "# temp = gdf_dict[gdf_layer]\n",
    "# temp = temp.to_crs(crs = CRS)\n",
    "# print(temp.columns)\n",
    "\n",
    "# # Clean data\n",
    "# temp = temp.drop([\"Ntfcn_Date\", \"Mth2_Close\", \"Mth3_Close\", \"Mth4_Close\", \n",
    "#                   \"Status_Date\", \"AsAt\", \"Date_Currency\", \"Date_extracted\"], axis=1)\n",
    "\n",
    "# # Save cleaned data\n",
    "# shape_path = \"E:\\\\ABLE\\\\Modifiers\\\\Data\\\\Shapefiles\\\\\"\n",
    "# save_path = os.path.join(shape_path, gdf_layer)\n",
    "# temp.to_file(f\"{save_path}/{gdf_layer}.shp\", driver='ESRI Shapefile')\n",
    "\n",
    "# # Load again and check\n",
    "# aa = gpd.read_file(f\"{save_path}/{gdf_layer}.shp\")"
   ]
  },
  {
   "cell_type": "code",
   "execution_count": 409,
   "metadata": {},
   "outputs": [],
   "source": [
    "# # L0WA_DMIRS_Mineralisation_Zone - 30\n",
    "# ############################################################################\n",
    "\n",
    "# # layer \n",
    "# gdf_layer = gdf_error[30]\n",
    "\n",
    "# # file with error \n",
    "# temp = gdf_dict[gdf_layer]\n",
    "# temp = temp.to_crs(crs = CRS)\n",
    "# print(temp.columns)\n",
    "\n",
    "# # Clean data\n",
    "# temp = temp.drop([\"STARTDATE\", \"ENDDATE\", \"EXTRACT_DATE\"], axis=1)\n",
    "\n",
    "# # Save cleaned data\n",
    "# shape_path = \"E:\\\\ABLE\\\\Modifiers\\\\Data\\\\Shapefiles\\\\\"\n",
    "# save_path = os.path.join(shape_path, gdf_layer)\n",
    "# temp.to_file(f\"{save_path}/{gdf_layer}.shp\", driver='ESRI Shapefile')\n",
    "\n",
    "# # Load again and check\n",
    "# aa = gpd.read_file(f\"{save_path}/{gdf_layer}.shp\")"
   ]
  },
  {
   "cell_type": "code",
   "execution_count": 545,
   "metadata": {},
   "outputs": [],
   "source": [
    "# # L10CAPAD_51hReserve - 31\n",
    "# ############################################################################\n",
    "\n",
    "# # layer \n",
    "# gdf_layer = gdf_error[31]\n",
    "\n",
    "# # file with error \n",
    "# temp = gdf_dict[gdf_layer]\n",
    "# temp = temp.to_crs(crs = CRS)\n",
    "# print(temp.columns)\n",
    "\n",
    "# # Clean data\n",
    "# temp = temp.drop([\"GAZ_DATE\", \"LATEST_GAZ\"], axis=1)\n",
    "\n",
    "# # Save cleaned data\n",
    "# shape_path = \"E:\\\\ABLE\\\\Modifiers\\\\Data\\\\Shapefiles\\\\\"\n",
    "# save_path = os.path.join(shape_path, gdf_layer)\n",
    "# temp.to_file(f\"{save_path}/{gdf_layer}.shp\", driver='ESRI Shapefile')\n",
    "\n",
    "# # Load again and check\n",
    "# aa = gpd.read_file(f\"{save_path}/{gdf_layer}.shp\")"
   ]
  },
  {
   "cell_type": "code",
   "execution_count": 433,
   "metadata": {},
   "outputs": [],
   "source": [
    "# # L12CAPAD_ConservationCovenant - 32\n",
    "# ############################################################################\n",
    "\n",
    "# # layer \n",
    "# gdf_layer = gdf_error[32]\n",
    "\n",
    "# # file with error \n",
    "# temp = gdf_dict[gdf_layer]\n",
    "# temp = temp.to_crs(crs = CRS)\n",
    "# print(temp.columns)\n",
    "\n",
    "# # Clean data\n",
    "# temp = temp.drop([\"GAZ_DATE\", \"LATEST_GAZ\"], axis=1)\n",
    "\n",
    "# # Save cleaned data\n",
    "# shape_path = \"E:\\\\ABLE\\\\Modifiers\\\\Data\\\\Shapefiles\\\\\"\n",
    "# save_path = os.path.join(shape_path, gdf_layer)\n",
    "# temp.to_file(f\"{save_path}/{gdf_layer}.shp\", driver='ESRI Shapefile')\n",
    "\n",
    "# # Load again and check\n",
    "# aa = gpd.read_file(f\"{save_path}/{gdf_layer}.shp\")"
   ]
  },
  {
   "cell_type": "code",
   "execution_count": 544,
   "metadata": {},
   "outputs": [],
   "source": [
    "# # L13CAPAD_ConservationPark - 33\n",
    "# ############################################################################\n",
    "\n",
    "# # layer \n",
    "# gdf_layer = gdf_error[33]\n",
    "\n",
    "# # file with error \n",
    "# temp = gdf_dict[gdf_layer]\n",
    "# temp = temp.to_crs(crs = CRS)\n",
    "# print(temp.columns)\n",
    "\n",
    "# # Clean data\n",
    "# temp = temp.drop([\"GAZ_DATE\", \"LATEST_GAZ\"], axis=1)\n",
    "\n",
    "# # Save cleaned data\n",
    "# shape_path = \"E:\\\\ABLE\\\\Modifiers\\\\Data\\\\Shapefiles\\\\\"\n",
    "# save_path = os.path.join(shape_path, gdf_layer)\n",
    "# temp.to_file(f\"{save_path}/{gdf_layer}.shp\", driver='ESRI Shapefile')\n",
    "\n",
    "# # Load again and check\n",
    "# aa = gpd.read_file(f\"{save_path}/{gdf_layer}.shp\")"
   ]
  },
  {
   "cell_type": "code",
   "execution_count": 543,
   "metadata": {},
   "outputs": [],
   "source": [
    "# # L14CAPAD_ConservationReserve - 34\n",
    "# ############################################################################\n",
    "\n",
    "# # layer \n",
    "# gdf_layer = gdf_error[34]\n",
    "\n",
    "# # file with error \n",
    "# temp = gdf_dict[gdf_layer]\n",
    "# temp = temp.to_crs(crs = CRS)\n",
    "# print(temp.columns)\n",
    "\n",
    "# # Clean data\n",
    "# temp = temp.drop([\"GAZ_DATE\", \"LATEST_GAZ\"], axis=1)\n",
    "\n",
    "# # Save cleaned data\n",
    "# shape_path = \"E:\\\\ABLE\\\\Modifiers\\\\Data\\\\Shapefiles\\\\\"\n",
    "# save_path = os.path.join(shape_path, gdf_layer)\n",
    "# temp.to_file(f\"{save_path}/{gdf_layer}.shp\", driver='ESRI Shapefile')\n",
    "\n",
    "# # Load again and check\n",
    "# aa = gpd.read_file(f\"{save_path}/{gdf_layer}.shp\")"
   ]
  },
  {
   "cell_type": "code",
   "execution_count": 542,
   "metadata": {},
   "outputs": [],
   "source": [
    "# # L15CAPAD_ManagementArea - 35\n",
    "# ############################################################################\n",
    "\n",
    "# # layer \n",
    "# gdf_layer = gdf_error[35]\n",
    "\n",
    "# # file with error \n",
    "# temp = gdf_dict[gdf_layer]\n",
    "# temp = temp.to_crs(crs = CRS)\n",
    "# print(temp.columns)\n",
    "\n",
    "# # Clean data\n",
    "# temp = temp.drop([\"GAZ_DATE\", \"LATEST_GAZ\"], axis=1)\n",
    "\n",
    "# # Save cleaned data\n",
    "# shape_path = \"E:\\\\ABLE\\\\Modifiers\\\\Data\\\\Shapefiles\\\\\"\n",
    "# save_path = os.path.join(shape_path, gdf_layer)\n",
    "# temp.to_file(f\"{save_path}/{gdf_layer}.shp\", driver='ESRI Shapefile')\n",
    "\n",
    "# # Load again and check\n",
    "# aa = gpd.read_file(f\"{save_path}/{gdf_layer}.shp\")"
   ]
  },
  {
   "cell_type": "code",
   "execution_count": 541,
   "metadata": {},
   "outputs": [],
   "source": [
    "# # L18CAPAD_NRS_Addition_GazettalinProgress - 36\n",
    "# ############################################################################\n",
    "\n",
    "# # layer \n",
    "# gdf_layer = gdf_error[36]\n",
    "\n",
    "# # file with error \n",
    "# temp = gdf_dict[gdf_layer]\n",
    "# temp = temp.to_crs(crs = CRS)\n",
    "# print(temp.columns)\n",
    "\n",
    "# # Clean data\n",
    "# temp = temp.drop([\"GAZ_DATE\", \"LATEST_GAZ\"], axis=1)\n",
    "\n",
    "# # Save cleaned data\n",
    "# shape_path = \"E:\\\\ABLE\\\\Modifiers\\\\Data\\\\Shapefiles\\\\\"\n",
    "# save_path = os.path.join(shape_path, gdf_layer)\n",
    "# temp.to_file(f\"{save_path}/{gdf_layer}.shp\", driver='ESRI Shapefile')\n",
    "\n",
    "# # Load again and check\n",
    "# aa = gpd.read_file(f\"{save_path}/{gdf_layer}.shp\")"
   ]
  },
  {
   "cell_type": "code",
   "execution_count": 540,
   "metadata": {},
   "outputs": [],
   "source": [
    "# # L19CAPAD_Other - 37\n",
    "# ############################################################################\n",
    "\n",
    "# # layer \n",
    "# gdf_layer = gdf_error[37]\n",
    "\n",
    "# # file with error \n",
    "# temp = gdf_dict[gdf_layer]\n",
    "# temp = temp.to_crs(crs = CRS)\n",
    "# print(temp.columns)\n",
    "\n",
    "# # Clean data\n",
    "# temp = temp.drop([\"GAZ_DATE\", \"LATEST_GAZ\"], axis=1)\n",
    "\n",
    "# # Save cleaned data\n",
    "# shape_path = \"E:\\\\ABLE\\\\Modifiers\\\\Data\\\\Shapefiles\\\\\"\n",
    "# save_path = os.path.join(shape_path, gdf_layer)\n",
    "# temp.to_file(f\"{save_path}/{gdf_layer}.shp\", driver='ESRI Shapefile')\n",
    "\n",
    "# # Load again and check\n",
    "# aa = gpd.read_file(f\"{save_path}/{gdf_layer}.shp\")"
   ]
  },
  {
   "cell_type": "code",
   "execution_count": 539,
   "metadata": {},
   "outputs": [],
   "source": [
    "# # L2IUCN_World_Database_of_Protected_Areas___Dec22 - 38\n",
    "# ############################################################################\n",
    "\n",
    "# # layer \n",
    "# gdf_layer = gdf_error[38]\n",
    "\n",
    "# # file with error \n",
    "# temp = gdf_dict[gdf_layer]\n",
    "# temp = temp.to_crs(crs = CRS)\n",
    "# print(temp.columns)\n",
    "\n",
    "# # Clean data\n",
    "# temp = temp.drop([\"GAZ_DATE\", \"LATEST_GAZ\"], axis=1)\n",
    "\n",
    "# # Save cleaned data\n",
    "# shape_path = \"E:\\\\ABLE\\\\Modifiers\\\\Data\\\\Shapefiles\\\\\"\n",
    "# save_path = os.path.join(shape_path, gdf_layer)\n",
    "# temp.to_file(f\"{save_path}/{gdf_layer}.shp\", driver='ESRI Shapefile')\n",
    "\n",
    "# # Load again and check\n",
    "# aa = gpd.read_file(f\"{save_path}/{gdf_layer}.shp\")"
   ]
  },
  {
   "cell_type": "code",
   "execution_count": 500,
   "metadata": {},
   "outputs": [],
   "source": [
    "# # L20CAPAD_PrivateNatureReserve - 39\n",
    "# ############################################################################\n",
    "\n",
    "# # layer \n",
    "# gdf_layer = gdf_error[39]\n",
    "\n",
    "# # file with error \n",
    "# temp = gdf_dict[gdf_layer]\n",
    "# temp = temp.to_crs(crs = CRS)\n",
    "# print(temp.columns)\n",
    "\n",
    "# # Clean data\n",
    "# temp = temp.drop([\"GAZ_DATE\", \"LATEST_GAZ\"], axis=1)\n",
    "\n",
    "# # Save cleaned data\n",
    "# shape_path = \"E:\\\\ABLE\\\\Modifiers\\\\Data\\\\Shapefiles\\\\\"\n",
    "# save_path = os.path.join(shape_path, gdf_layer)\n",
    "# temp.to_file(f\"{save_path}/{gdf_layer}.shp\", driver='ESRI Shapefile')\n",
    "\n",
    "# # Load again and check\n",
    "# aa = gpd.read_file(f\"{save_path}/{gdf_layer}.shp\")"
   ]
  },
  {
   "cell_type": "code",
   "execution_count": 538,
   "metadata": {},
   "outputs": [],
   "source": [
    "# # L21CAPAD_StateReserve - 40\n",
    "# ############################################################################\n",
    "\n",
    "# # layer \n",
    "# gdf_layer = gdf_error[40]\n",
    "\n",
    "# # file with error \n",
    "# temp = gdf_dict[gdf_layer]\n",
    "# temp = temp.to_crs(crs = CRS)\n",
    "# print(temp.columns)\n",
    "\n",
    "# # Clean data\n",
    "# temp = temp.drop([\"GAZ_DATE\", \"LATEST_GAZ\"], axis=1)\n",
    "\n",
    "# # Save cleaned data\n",
    "# shape_path = \"E:\\\\ABLE\\\\Modifiers\\\\Data\\\\Shapefiles\\\\\"\n",
    "# save_path = os.path.join(shape_path, gdf_layer)\n",
    "# temp.to_file(f\"{save_path}/{gdf_layer}.shp\", driver='ESRI Shapefile')\n",
    "\n",
    "# # Load again and check\n",
    "# aa = gpd.read_file(f\"{save_path}/{gdf_layer}.shp\")"
   ]
  },
  {
   "cell_type": "code",
   "execution_count": null,
   "metadata": {},
   "outputs": [],
   "source": [
    "# # L21Threatened_and_Priority_Flora__DBCA_036_ - 41\n",
    "# ############################################################################\n",
    "\n",
    "# # layer \n",
    "# gdf_layer = gdf_error[41]\n",
    "\n",
    "# # file with error \n",
    "# temp = gdf_dict[gdf_layer]\n",
    "# temp = temp.to_crs(crs = CRS)\n",
    "# print(temp.columns)\n",
    "\n",
    "# # Clean data\n",
    "# temp = temp = temp.drop([\"GAZ_DATE\", \"LATEST_GAZ\"], axis=1)\n",
    "\n",
    "# # Save cleaned data\n",
    "# shape_path = \"E:\\\\ABLE\\\\Modifiers\\\\Data\\\\Shapefiles\\\\\"\n",
    "# save_path = os.path.join(shape_path, gdf_layer)\n",
    "# temp.to_file(f\"{save_path}/{gdf_layer}.shp\", driver='ESRI Shapefile')\n",
    "\n",
    "# # Load again and check\n",
    "# aa = gpd.read_file(f\"{save_path}/{gdf_layer}.shp\")"
   ]
  },
  {
   "cell_type": "code",
   "execution_count": null,
   "metadata": {},
   "outputs": [],
   "source": [
    "# # L1WDPA_poly_latest - 42\n",
    "# ############################################################################\n",
    "\n",
    "# # layer \n",
    "# gdf_layer = gdf_error[42]\n",
    "\n",
    "# # file with error \n",
    "# temp = gdf_dict[gdf_layer]\n",
    "# temp = temp.to_crs(crs = CRS)\n",
    "# print(temp.columns)\n",
    "\n",
    "# # Clean data\n",
    "# temp = temp.drop([\"GAZ_DATE\", \"LATEST_GAZ\"], axis=1)\n",
    "\n",
    "# # Save cleaned data\n",
    "# shape_path = \"E:\\\\ABLE\\\\Modifiers\\\\Data\\\\Shapefiles\\\\\"\n",
    "# save_path = os.path.join(shape_path, gdf_layer)\n",
    "# temp.to_file(f\"{save_path}/{gdf_layer}.shp\", driver='ESRI Shapefile')\n",
    "\n",
    "# # Load again and check\n",
    "# aa = gpd.read_file(f\"{save_path}/{gdf_layer}.shp\")"
   ]
  },
  {
   "cell_type": "code",
   "execution_count": 547,
   "metadata": {},
   "outputs": [],
   "source": [
    "# # L2Listed_migratory_species - 43\n",
    "# ############################################################################\n",
    "\n",
    "# # layer \n",
    "# gdf_layer = gdf_error[43]\n",
    "\n",
    "# # file with error \n",
    "# temp = gdf_dict[gdf_layer]\n",
    "# temp = temp.to_crs(crs = CRS)\n",
    "# print(temp.columns)\n",
    "\n",
    "# # Clean data\n",
    "# temp = temp.drop([\"EXTRACTED\"], axis=1)\n",
    "\n",
    "# # Save cleaned data\n",
    "# shape_path = \"E:\\\\ABLE\\\\Modifiers\\\\Data\\\\Shapefiles\\\\\"\n",
    "# save_path = os.path.join(shape_path, gdf_layer)\n",
    "# temp.to_file(f\"{save_path}/{gdf_layer}.shp\", driver='ESRI Shapefile')\n",
    "\n",
    "# # Load again and check\n",
    "# aa = gpd.read_file(f\"{save_path}/{gdf_layer}.shp\")"
   ]
  },
  {
   "cell_type": "code",
   "execution_count": null,
   "metadata": {},
   "outputs": [],
   "source": [
    "# # L3Listed_threatened_species - 44\n",
    "# ############################################################################\n",
    "\n",
    "# # layer \n",
    "# gdf_layer = gdf_error[44]\n",
    "\n",
    "# # file with error \n",
    "# temp = gdf_dict[gdf_layer]\n",
    "# temp = temp.to_crs(crs = CRS)\n",
    "# print(temp.columns)\n",
    "\n",
    "# # Clean data\n",
    "# temp = temp.drop([\"EXTRACTED\"], axis=1)\n",
    "\n",
    "# # Save cleaned data\n",
    "# shape_path = \"E:\\\\ABLE\\\\Modifiers\\\\Data\\\\Shapefiles\\\\\"\n",
    "# save_path = os.path.join(shape_path, gdf_layer)\n",
    "# temp.to_file(f\"{save_path}/{gdf_layer}.shp\", driver='ESRI Shapefile')\n",
    "\n",
    "# # Load again and check\n",
    "# aa = gpd.read_file(f\"{save_path}/{gdf_layer}.shp\")"
   ]
  },
  {
   "cell_type": "code",
   "execution_count": null,
   "metadata": {},
   "outputs": [],
   "source": [
    "# # L0World_Heritage_Sites - 45\n",
    "# ############################################################################\n",
    "\n",
    "# # layer \n",
    "# gdf_layer = gdf_error[45]\n",
    "\n",
    "# # file with error \n",
    "# temp = gdf_dict[gdf_layer]\n",
    "# temp = temp.to_crs(crs = CRS)\n",
    "# print(temp.columns)\n",
    "\n",
    "# # Clean data\n",
    "# temp = temp = temp.drop([\"GAZ_DATE\", \"LATEST_GAZ\"], axis=1)\n",
    "\n",
    "# # Save cleaned data\n",
    "# shape_path = \"E:\\\\ABLE\\\\Modifiers\\\\Data\\\\Shapefiles\\\\\"\n",
    "# save_path = os.path.join(shape_path, gdf_layer)\n",
    "# temp.to_file(f\"{save_path}/{gdf_layer}.shp\", driver='ESRI Shapefile')\n",
    "\n",
    "# # Load again and check\n",
    "# aa = gpd.read_file(f\"{save_path}/{gdf_layer}.shp\")"
   ]
  },
  {
   "cell_type": "code",
   "execution_count": null,
   "metadata": {},
   "outputs": [],
   "source": [
    "# # L14WA_Major_Aviation_Terminals_Points - 46\n",
    "# ############################################################################\n",
    "\n",
    "# # layer \n",
    "# gdf_layer = gdf_error[46]\n",
    "\n",
    "# # file with error \n",
    "# temp = gdf_dict[gdf_layer]\n",
    "# temp = temp.to_crs(crs = CRS)\n",
    "# print(temp.columns)\n",
    "\n",
    "# # Clean data\n",
    "# temp = temp.drop([\"REVISED\"], axis=1))\n",
    "\n",
    "# # Save cleaned data\n",
    "# shape_path = \"E:\\\\ABLE\\\\Modifiers\\\\Data\\\\Shapefiles\\\\\"\n",
    "# save_path = os.path.join(shape_path, gdf_layer)\n",
    "# temp.to_file(f\"{save_path}/{gdf_layer}.shp\", driver='ESRI Shapefile')\n",
    "\n",
    "# # Load again and check\n",
    "# aa = gpd.read_file(f\"{save_path}/{gdf_layer}.shp\")"
   ]
  },
  {
   "cell_type": "code",
   "execution_count": 552,
   "metadata": {},
   "outputs": [
    {
     "data": {
      "text/html": [
       "<div>\n",
       "<style scoped>\n",
       "    .dataframe tbody tr th:only-of-type {\n",
       "        vertical-align: middle;\n",
       "    }\n",
       "\n",
       "    .dataframe tbody tr th {\n",
       "        vertical-align: top;\n",
       "    }\n",
       "\n",
       "    .dataframe thead th {\n",
       "        text-align: right;\n",
       "    }\n",
       "</style>\n",
       "<table border=\"1\" class=\"dataframe\">\n",
       "  <thead>\n",
       "    <tr style=\"text-align: right;\">\n",
       "      <th></th>\n",
       "      <th>FEATURETYPE</th>\n",
       "      <th>DESCRIPTION</th>\n",
       "      <th>CLASS</th>\n",
       "      <th>Project_Able_DBO_MajorAviationTerminals_FID</th>\n",
       "      <th>NAME</th>\n",
       "      <th>STRUCTURETYPE</th>\n",
       "      <th>AIRPORTCODE</th>\n",
       "      <th>ADDRESS</th>\n",
       "      <th>SUBURB</th>\n",
       "      <th>STATE</th>\n",
       "      <th>SPATIALCONFIDENCE</th>\n",
       "      <th>REVISED</th>\n",
       "      <th>COMMENT</th>\n",
       "      <th>GlobalID</th>\n",
       "      <th>geometry</th>\n",
       "    </tr>\n",
       "  </thead>\n",
       "  <tbody>\n",
       "    <tr>\n",
       "      <th>0</th>\n",
       "      <td>Terminal</td>\n",
       "      <td>A building located at an airport that serves a...</td>\n",
       "      <td>Domestic</td>\n",
       "      <td>19</td>\n",
       "      <td>Jandakot</td>\n",
       "      <td>None</td>\n",
       "      <td>JAD</td>\n",
       "      <td>None</td>\n",
       "      <td>Jandakot</td>\n",
       "      <td>Western Australia</td>\n",
       "      <td>3</td>\n",
       "      <td>2012-09-19 00:00:00+00:00</td>\n",
       "      <td>None</td>\n",
       "      <td>{1C83DFF1-5DE4-4219-A345-23352366BB2F}</td>\n",
       "      <td>POINT (393692.337 6448151.152)</td>\n",
       "    </tr>\n",
       "    <tr>\n",
       "      <th>1</th>\n",
       "      <td>Terminal</td>\n",
       "      <td>A building located at an airport that serves a...</td>\n",
       "      <td>International</td>\n",
       "      <td>20</td>\n",
       "      <td>Perth - Terminal 1</td>\n",
       "      <td>None</td>\n",
       "      <td>PER</td>\n",
       "      <td>None</td>\n",
       "      <td>Perth Airport</td>\n",
       "      <td>Western Australia</td>\n",
       "      <td>5</td>\n",
       "      <td>2012-09-19 00:00:00+00:00</td>\n",
       "      <td>None</td>\n",
       "      <td>{A959BFFB-B506-401C-8396-B4531F6B3BB0}</td>\n",
       "      <td>POINT (403037.208 6465668.261)</td>\n",
       "    </tr>\n",
       "    <tr>\n",
       "      <th>2</th>\n",
       "      <td>Terminal</td>\n",
       "      <td>A building located at an airport that serves a...</td>\n",
       "      <td>Domestic</td>\n",
       "      <td>21</td>\n",
       "      <td>Perth - Terminals 2 and 3</td>\n",
       "      <td>None</td>\n",
       "      <td>PER</td>\n",
       "      <td>None</td>\n",
       "      <td>Perth Airport</td>\n",
       "      <td>Western Australia</td>\n",
       "      <td>5</td>\n",
       "      <td>2012-09-19 00:00:00+00:00</td>\n",
       "      <td>None</td>\n",
       "      <td>{ECBCA8E4-CC83-49F8-8483-427DBBC444CE}</td>\n",
       "      <td>POINT (401768.904 6466463.669)</td>\n",
       "    </tr>\n",
       "  </tbody>\n",
       "</table>\n",
       "</div>"
      ],
      "text/plain": [
       "  FEATURETYPE                                        DESCRIPTION  \\\n",
       "0    Terminal  A building located at an airport that serves a...   \n",
       "1    Terminal  A building located at an airport that serves a...   \n",
       "2    Terminal  A building located at an airport that serves a...   \n",
       "\n",
       "           CLASS Project_Able_DBO_MajorAviationTerminals_FID  \\\n",
       "0       Domestic                                          19   \n",
       "1  International                                          20   \n",
       "2       Domestic                                          21   \n",
       "\n",
       "                        NAME STRUCTURETYPE AIRPORTCODE ADDRESS         SUBURB  \\\n",
       "0                   Jandakot          None         JAD    None       Jandakot   \n",
       "1         Perth - Terminal 1          None         PER    None  Perth Airport   \n",
       "2  Perth - Terminals 2 and 3          None         PER    None  Perth Airport   \n",
       "\n",
       "               STATE SPATIALCONFIDENCE                   REVISED COMMENT  \\\n",
       "0  Western Australia                 3 2012-09-19 00:00:00+00:00    None   \n",
       "1  Western Australia                 5 2012-09-19 00:00:00+00:00    None   \n",
       "2  Western Australia                 5 2012-09-19 00:00:00+00:00    None   \n",
       "\n",
       "                                 GlobalID                        geometry  \n",
       "0  {1C83DFF1-5DE4-4219-A345-23352366BB2F}  POINT (393692.337 6448151.152)  \n",
       "1  {A959BFFB-B506-401C-8396-B4531F6B3BB0}  POINT (403037.208 6465668.261)  \n",
       "2  {ECBCA8E4-CC83-49F8-8483-427DBBC444CE}  POINT (401768.904 6466463.669)  "
      ]
     },
     "execution_count": 552,
     "metadata": {},
     "output_type": "execute_result"
    }
   ],
   "source": [
    "temp = gdf_dict[gdf_layer]\n",
    "temp = temp.to_crs(crs = CRS)\n",
    "temp.head(3)"
   ]
  },
  {
   "cell_type": "code",
   "execution_count": 553,
   "metadata": {},
   "outputs": [
    {
     "data": {
      "text/plain": [
       "Index(['FEATURETYPE', 'DESCRIPTION', 'CLASS',\n",
       "       'Project_Able_DBO_MajorAviationTerminals_FID', 'NAME', 'STRUCTURETYPE',\n",
       "       'AIRPORTCODE', 'ADDRESS', 'SUBURB', 'STATE', 'SPATIALCONFIDENCE',\n",
       "       'REVISED', 'COMMENT', 'GlobalID', 'geometry'],\n",
       "      dtype='object')"
      ]
     },
     "execution_count": 553,
     "metadata": {},
     "output_type": "execute_result"
    }
   ],
   "source": [
    "temp.columns"
   ]
  },
  {
   "cell_type": "code",
   "execution_count": 554,
   "metadata": {},
   "outputs": [],
   "source": [
    "temp = temp.drop([\"REVISED\"], axis=1)"
   ]
  },
  {
   "cell_type": "code",
   "execution_count": 555,
   "metadata": {},
   "outputs": [
    {
     "name": "stderr",
     "output_type": "stream",
     "text": [
      "C:\\Users\\nmenon\\AppData\\Local\\Temp\\ipykernel_11120\\3902346836.py:4: UserWarning: Column names longer than 10 characters will be truncated when saved to ESRI Shapefile.\n",
      "  temp.to_file(f\"{save_path}/{gdf_layer}.shp\", driver='ESRI Shapefile')\n"
     ]
    }
   ],
   "source": [
    "# Save cleaned data\n",
    "shape_path = \"E:\\\\ABLE\\\\Modifiers\\\\Data\\\\Shapefiles\\\\\"\n",
    "save_path = os.path.join(shape_path, gdf_layer)\n",
    "temp.to_file(f\"{save_path}/{gdf_layer}.shp\", driver='ESRI Shapefile')\n"
   ]
  },
  {
   "cell_type": "code",
   "execution_count": 556,
   "metadata": {},
   "outputs": [
    {
     "data": {
      "text/html": [
       "<div>\n",
       "<style scoped>\n",
       "    .dataframe tbody tr th:only-of-type {\n",
       "        vertical-align: middle;\n",
       "    }\n",
       "\n",
       "    .dataframe tbody tr th {\n",
       "        vertical-align: top;\n",
       "    }\n",
       "\n",
       "    .dataframe thead th {\n",
       "        text-align: right;\n",
       "    }\n",
       "</style>\n",
       "<table border=\"1\" class=\"dataframe\">\n",
       "  <thead>\n",
       "    <tr style=\"text-align: right;\">\n",
       "      <th></th>\n",
       "      <th>FEATURETYP</th>\n",
       "      <th>DESCRIPTIO</th>\n",
       "      <th>CLASS</th>\n",
       "      <th>Project_Ab</th>\n",
       "      <th>NAME</th>\n",
       "      <th>STRUCTURET</th>\n",
       "      <th>AIRPORTCOD</th>\n",
       "      <th>ADDRESS</th>\n",
       "      <th>SUBURB</th>\n",
       "      <th>STATE</th>\n",
       "      <th>SPATIALCON</th>\n",
       "      <th>COMMENT</th>\n",
       "      <th>GlobalID</th>\n",
       "      <th>geometry</th>\n",
       "    </tr>\n",
       "  </thead>\n",
       "  <tbody>\n",
       "    <tr>\n",
       "      <th>0</th>\n",
       "      <td>Terminal</td>\n",
       "      <td>A building located at an airport that serves a...</td>\n",
       "      <td>Domestic</td>\n",
       "      <td>19</td>\n",
       "      <td>Jandakot</td>\n",
       "      <td>None</td>\n",
       "      <td>JAD</td>\n",
       "      <td>None</td>\n",
       "      <td>Jandakot</td>\n",
       "      <td>Western Australia</td>\n",
       "      <td>3</td>\n",
       "      <td>None</td>\n",
       "      <td>{1C83DFF1-5DE4-4219-A345-23352366BB2F}</td>\n",
       "      <td>POINT (393692.337 6448151.152)</td>\n",
       "    </tr>\n",
       "    <tr>\n",
       "      <th>1</th>\n",
       "      <td>Terminal</td>\n",
       "      <td>A building located at an airport that serves a...</td>\n",
       "      <td>International</td>\n",
       "      <td>20</td>\n",
       "      <td>Perth - Terminal 1</td>\n",
       "      <td>None</td>\n",
       "      <td>PER</td>\n",
       "      <td>None</td>\n",
       "      <td>Perth Airport</td>\n",
       "      <td>Western Australia</td>\n",
       "      <td>5</td>\n",
       "      <td>None</td>\n",
       "      <td>{A959BFFB-B506-401C-8396-B4531F6B3BB0}</td>\n",
       "      <td>POINT (403037.208 6465668.261)</td>\n",
       "    </tr>\n",
       "    <tr>\n",
       "      <th>2</th>\n",
       "      <td>Terminal</td>\n",
       "      <td>A building located at an airport that serves a...</td>\n",
       "      <td>Domestic</td>\n",
       "      <td>21</td>\n",
       "      <td>Perth - Terminals 2 and 3</td>\n",
       "      <td>None</td>\n",
       "      <td>PER</td>\n",
       "      <td>None</td>\n",
       "      <td>Perth Airport</td>\n",
       "      <td>Western Australia</td>\n",
       "      <td>5</td>\n",
       "      <td>None</td>\n",
       "      <td>{ECBCA8E4-CC83-49F8-8483-427DBBC444CE}</td>\n",
       "      <td>POINT (401768.904 6466463.669)</td>\n",
       "    </tr>\n",
       "  </tbody>\n",
       "</table>\n",
       "</div>"
      ],
      "text/plain": [
       "  FEATURETYP                                         DESCRIPTIO  \\\n",
       "0   Terminal  A building located at an airport that serves a...   \n",
       "1   Terminal  A building located at an airport that serves a...   \n",
       "2   Terminal  A building located at an airport that serves a...   \n",
       "\n",
       "           CLASS Project_Ab                       NAME STRUCTURET AIRPORTCOD  \\\n",
       "0       Domestic         19                   Jandakot       None        JAD   \n",
       "1  International         20         Perth - Terminal 1       None        PER   \n",
       "2       Domestic         21  Perth - Terminals 2 and 3       None        PER   \n",
       "\n",
       "  ADDRESS         SUBURB              STATE SPATIALCON COMMENT  \\\n",
       "0    None       Jandakot  Western Australia          3    None   \n",
       "1    None  Perth Airport  Western Australia          5    None   \n",
       "2    None  Perth Airport  Western Australia          5    None   \n",
       "\n",
       "                                 GlobalID                        geometry  \n",
       "0  {1C83DFF1-5DE4-4219-A345-23352366BB2F}  POINT (393692.337 6448151.152)  \n",
       "1  {A959BFFB-B506-401C-8396-B4531F6B3BB0}  POINT (403037.208 6465668.261)  \n",
       "2  {ECBCA8E4-CC83-49F8-8483-427DBBC444CE}  POINT (401768.904 6466463.669)  "
      ]
     },
     "execution_count": 556,
     "metadata": {},
     "output_type": "execute_result"
    }
   ],
   "source": [
    "aa = gpd.read_file(f\"{save_path}/{gdf_layer}.shp\")\n",
    "aa.head(3)"
   ]
  },
  {
   "cell_type": "code",
   "execution_count": 557,
   "metadata": {},
   "outputs": [
    {
     "data": {
      "text/plain": [
       "<Axes: >"
      ]
     },
     "execution_count": 557,
     "metadata": {},
     "output_type": "execute_result"
    },
    {
     "data": {
      "image/png": "[encoded data removed]",
      "text/plain": [
       "<Figure size 640x480 with 1 Axes>"
      ]
     },
     "metadata": {},
     "output_type": "display_data"
    }
   ],
   "source": [
    "aa.plot()"
   ]
  },
  {
   "cell_type": "code",
   "execution_count": null,
   "metadata": {},
   "outputs": [],
   "source": []
  },
  {
   "cell_type": "code",
   "execution_count": null,
   "metadata": {},
   "outputs": [],
   "source": []
  },
  {
   "cell_type": "code",
   "execution_count": null,
   "metadata": {},
   "outputs": [],
   "source": []
  },
  {
   "cell_type": "code",
   "execution_count": null,
   "metadata": {},
   "outputs": [],
   "source": []
  },
  {
   "cell_type": "markdown",
   "metadata": {},
   "source": [
    "## References\n",
    "\n",
    "1. https://gis.stackexchange.com/questions/32762/accessing-feature-classes-in-file-geodatabases-using-python-and-gdal\n",
    "2. https://stackoverflow.com/questions/70010488/how-do-i-create-a-shapefile-from-a-geopandas-dataframe \n",
    "3. https://geopandas.org/en/stable/index.html "
   ]
  }
 ],
 "metadata": {
  "kernelspec": {
   "display_name": "Python 3 (ipykernel)",
   "language": "python",
   "name": "python3"
  },
  "language_info": {
   "codemirror_mode": {
    "name": "ipython",
    "version": 3
   },
   "file_extension": ".py",
   "mimetype": "text/x-python",
   "name": "python",
   "nbconvert_exporter": "python",
   "pygments_lexer": "ipython3",
   "version": "3.11.5"
  }
 },
 "nbformat": 4,
 "nbformat_minor": 5
}
